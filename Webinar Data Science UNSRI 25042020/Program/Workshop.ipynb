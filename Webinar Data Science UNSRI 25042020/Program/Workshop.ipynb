{
 "cells": [
  {
   "cell_type": "markdown",
   "metadata": {},
   "source": [
    "Welcome to the **Workshop of Data Science**.\n",
    "\n",
    "In this module you will learn how to code with Python and create simple machine learning with Linear Regression, let's start!"
   ]
  },
  {
   "cell_type": "markdown",
   "metadata": {},
   "source": [
    "# Intro to Python\n",
    "When you are learning programming languages, always start with code **Hello world**, because with that you will start programming and understanding it.\n",
    "\n",
    "To do that with Python, simply use \n",
    "```python\n",
    "print(\"Hello world\")\n",
    "```"
   ]
  },
  {
   "cell_type": "code",
   "execution_count": null,
   "metadata": {},
   "outputs": [],
   "source": []
  },
  {
   "cell_type": "markdown",
   "metadata": {},
   "source": [
    "You can using your name too, for examples:\n",
    "```python\n",
    "print(\"My name is Faul\")\n",
    "```"
   ]
  },
  {
   "cell_type": "code",
   "execution_count": null,
   "metadata": {},
   "outputs": [],
   "source": []
  },
  {
   "cell_type": "markdown",
   "metadata": {},
   "source": [
    "When you want to change your name, with that code you should changed it, so complicated. So you can use **variables**.\n",
    "\n",
    "For examples, we have variables called **Name** and simply type your name, and then use this:\n",
    "```python\n",
    "name = \"Faul\"\n",
    "print(\"My name is\", name)\n",
    "```"
   ]
  },
  {
   "cell_type": "markdown",
   "metadata": {},
   "source": [
    "With this type, when you want to change, just change **name** variable itself."
   ]
  },
  {
   "cell_type": "code",
   "execution_count": null,
   "metadata": {},
   "outputs": [],
   "source": []
  },
  {
   "cell_type": "markdown",
   "metadata": {},
   "source": [
    "You can create your own input with input function, like this\n",
    "```python\n",
    "name = input(\"Please input your name: \")\n",
    "print(\"My name is\", name)\n",
    "```\n"
   ]
  },
  {
   "cell_type": "code",
   "execution_count": null,
   "metadata": {},
   "outputs": [],
   "source": []
  },
  {
   "cell_type": "markdown",
   "metadata": {},
   "source": [
    "So, which one do you prefer? It's up to you."
   ]
  },
  {
   "cell_type": "code",
   "execution_count": null,
   "metadata": {},
   "outputs": [],
   "source": []
  },
  {
   "cell_type": "markdown",
   "metadata": {},
   "source": [
    "## Data Types\n",
    "Now let's talk about data types, we know that in general data types is differenced between **number** and **word**.\n",
    "\n",
    "In Python, data types is differentiate between **Integer, float, string**\n",
    "\n",
    "Examples:\n",
    "```python\n",
    "gpa = 3.56\n",
    "semester = 7\n",
    "department = \"Informatics\"\n",
    "```\n",
    "Who is integer, float or string?"
   ]
  },
  {
   "cell_type": "code",
   "execution_count": null,
   "metadata": {},
   "outputs": [],
   "source": []
  },
  {
   "cell_type": "markdown",
   "metadata": {},
   "source": [
    "To know that, just use function ```type(gpa)``` or ```type(semester)``` or ```type(department)```, and you can see what are the data type."
   ]
  },
  {
   "cell_type": "code",
   "execution_count": null,
   "metadata": {},
   "outputs": [],
   "source": []
  },
  {
   "cell_type": "markdown",
   "metadata": {},
   "source": [
    "## Containers"
   ]
  },
  {
   "cell_type": "markdown",
   "metadata": {},
   "source": [
    "So basically containers means how you can store many data in just one variable, like this one\n",
    "```python\n",
    "name_single = \"Faul\"\n",
    "name_multi = [\"Faul\", \"Arga\", \"Clara\"]\n",
    "```\n",
    "In **name_single** you just save one data, *Faul*, while in **name_multi** you can store many data. That's called containers."
   ]
  },
  {
   "cell_type": "code",
   "execution_count": null,
   "metadata": {},
   "outputs": [],
   "source": []
  },
  {
   "cell_type": "markdown",
   "metadata": {},
   "source": [
    "In general there are four containers, **List, Tuple, Dictionary, and Set**\n",
    "\n",
    "**List** what you see just above, with **[ ]** one.\n",
    "\n",
    "You can check out with ``type(name_multi)``"
   ]
  },
  {
   "cell_type": "code",
   "execution_count": null,
   "metadata": {},
   "outputs": [],
   "source": []
  },
  {
   "cell_type": "markdown",
   "metadata": {},
   "source": [
    "Next question is, how to get **Arga**? What do you want to do?"
   ]
  },
  {
   "cell_type": "code",
   "execution_count": null,
   "metadata": {},
   "outputs": [],
   "source": []
  },
  {
   "cell_type": "markdown",
   "metadata": {},
   "source": [
    "Introducing **index**, so index mean that you can always get your data with him, index start from zero, which means\n",
    "```python\n",
    "name_multi[0] is equals \"Faul\"\n",
    "name_multi[1] is equals \"Arga\"\n",
    "name_multi[2] is equals \"Clara\"\n",
    "```"
   ]
  },
  {
   "cell_type": "code",
   "execution_count": null,
   "metadata": {},
   "outputs": [],
   "source": []
  },
  {
   "cell_type": "markdown",
   "metadata": {},
   "source": [
    "How to add another data? You can used function ``.append(), .extend(), .insert()``\n",
    "You can try of these examples, and you know what is difference between them:\n",
    "```python\n",
    "name_multi.append(\"Lita\")\n",
    "print(name_multi)\n",
    "\n",
    "name_multi.extend(\"Lisa\", \"Gina\", \"Fajar\")\n",
    "print(name_multi)\n",
    "\n",
    "name_multi.insert(2, \"Beni\")\n",
    "print(name_multi)\n",
    "```\n",
    "\n",
    "I suggest to check one by one to see the difference."
   ]
  },
  {
   "cell_type": "code",
   "execution_count": null,
   "metadata": {},
   "outputs": [],
   "source": []
  },
  {
   "cell_type": "markdown",
   "metadata": {},
   "source": [
    "To know where your data is, you can use ``.index(data)`` and if you want to remove, just ``.remove(data)``\n",
    "```python\n",
    "name_multi.index(\"Fajar\")\n",
    "\n",
    "name_multi.remove(\"Lisa\")\n",
    "\n",
    "```"
   ]
  },
  {
   "cell_type": "code",
   "execution_count": null,
   "metadata": {},
   "outputs": [],
   "source": []
  },
  {
   "cell_type": "markdown",
   "metadata": {},
   "source": [
    "Exercise:\n",
    "\n",
    "Create simple list called gpa_multi and the value is **2.9,  2.85,  3.75,  3.49,  3.1,  3,  2.87,  3.21**\n",
    "    - Add 3.95 and 3.32 into your data\n",
    "    - Add 3.3 in third position\n",
    "    - Remove 2.85 from your data\n",
    "    - Where the position of 3.49?"
   ]
  },
  {
   "cell_type": "code",
   "execution_count": null,
   "metadata": {},
   "outputs": [],
   "source": []
  },
  {
   "cell_type": "code",
   "execution_count": null,
   "metadata": {},
   "outputs": [],
   "source": []
  },
  {
   "cell_type": "code",
   "execution_count": null,
   "metadata": {},
   "outputs": [],
   "source": []
  },
  {
   "cell_type": "code",
   "execution_count": null,
   "metadata": {},
   "outputs": [],
   "source": []
  },
  {
   "cell_type": "code",
   "execution_count": null,
   "metadata": {},
   "outputs": [],
   "source": []
  },
  {
   "cell_type": "markdown",
   "metadata": {},
   "source": [
    "**Tuple** actually have same as List, but they are using **( )**, and they are immutable, which is you can't adding data.\n",
    "```python\n",
    "name_multi_tuple = (\"Faul\", \"Arga\", \"Clara\")\n",
    "```\n",
    "\n",
    "Of course, you still can get your data using index too.\n",
    "```python\n",
    "name_multi_tuple[2] is returned value \"Clara\"\n",
    "```"
   ]
  },
  {
   "cell_type": "code",
   "execution_count": null,
   "metadata": {},
   "outputs": [],
   "source": []
  },
  {
   "cell_type": "code",
   "execution_count": null,
   "metadata": {},
   "outputs": [],
   "source": []
  },
  {
   "cell_type": "markdown",
   "metadata": {},
   "source": [
    "**Dictionary** is special cases, which is you don't use index for this type, but using  **key** for returning your **value**, and using **{ }**\n",
    "```python\n",
    "city_lived = {\"Faul\" : \"Surabaya\", \"Arga\" : \"Jakarta\", \"Clara\": \"Balikpapan\"}\n",
    "```\n",
    "``Faul`` in there is **key** and ``Surabaya`` is the **value**"
   ]
  },
  {
   "cell_type": "code",
   "execution_count": null,
   "metadata": {},
   "outputs": [],
   "source": []
  },
  {
   "cell_type": "code",
   "execution_count": null,
   "metadata": {},
   "outputs": [],
   "source": []
  },
  {
   "cell_type": "markdown",
   "metadata": {},
   "source": [
    "Again, to get the value, simply using **dict[key]**\n",
    "```python\n",
    "city_lived[\"Faul\"] is returned value \"Surabaya\"\n",
    "```\n",
    "\n",
    "To append, just using **dict[key] = \"value\"**\n",
    "```python\n",
    "city_lived[\"Lisa\"] = \"Makassar\"\n",
    "print(city_lived)\n",
    "```"
   ]
  },
  {
   "cell_type": "code",
   "execution_count": null,
   "metadata": {},
   "outputs": [],
   "source": []
  },
  {
   "cell_type": "code",
   "execution_count": null,
   "metadata": {},
   "outputs": [],
   "source": []
  },
  {
   "cell_type": "markdown",
   "metadata": {},
   "source": [
    "**Sets** is as same as list or tuples, but using **{ }**. Their main characteristic is just only unique data is store.\n",
    "```python\n",
    "city_lived_tuples = {\"Jakarta\", \"Surabaya\", \"Balikpapan\", \"Makassar\", \"Jakarta\", \"Balikpapan\"}\n",
    "print(city_lived_tuples)\n",
    "```\n",
    "Unfortunately they can using index for getting the values."
   ]
  },
  {
   "cell_type": "code",
   "execution_count": null,
   "metadata": {},
   "outputs": [],
   "source": []
  },
  {
   "cell_type": "code",
   "execution_count": null,
   "metadata": {},
   "outputs": [],
   "source": []
  },
  {
   "cell_type": "markdown",
   "metadata": {},
   "source": [
    "Exercise:\n",
    "\n",
    "From **gpa_multi** above, create your own dictionary, which contain ``name`` and ``gpa`` from **gpa_multi**. Feel free to create name itself.\n",
    "\n",
    "Who is get gpa 3.3 and 3.1?"
   ]
  },
  {
   "cell_type": "code",
   "execution_count": null,
   "metadata": {},
   "outputs": [],
   "source": []
  },
  {
   "cell_type": "code",
   "execution_count": null,
   "metadata": {},
   "outputs": [],
   "source": []
  },
  {
   "cell_type": "markdown",
   "metadata": {},
   "source": [
    "## Control Flow\n",
    "In this section, we are gonna talking about how Python works, systematically.\n",
    "**If-elif-else** is the most common reason when you want to create so many condition.\n",
    "```python\n",
    "gpa = 3.01\n",
    "if gpa > 3.5:\n",
    "    print(\"Great result!\")\n",
    "elif gpa > 3:\n",
    "    print(\"Good one\")\n",
    "else:\n",
    "    print(\"Don't give up, get better!\")\n",
    "```"
   ]
  },
  {
   "cell_type": "code",
   "execution_count": null,
   "metadata": {},
   "outputs": [],
   "source": []
  },
  {
   "cell_type": "markdown",
   "metadata": {},
   "source": [
    "How if I get gpa of 3?"
   ]
  },
  {
   "cell_type": "code",
   "execution_count": null,
   "metadata": {},
   "outputs": [],
   "source": []
  },
  {
   "cell_type": "markdown",
   "metadata": {},
   "source": [
    "Looping are the best way if you want to get many things frequently. In this case we are using **for** and **while**"
   ]
  },
  {
   "cell_type": "markdown",
   "metadata": {},
   "source": [
    "```python\n",
    "#with for\n",
    "for i in range(5):\n",
    "    print(i)\n",
    "    \n",
    "#with while\n",
    "i = 0\n",
    "while i < 5:\n",
    "    print(i)\n",
    "    i+=1\n",
    "```"
   ]
  },
  {
   "cell_type": "code",
   "execution_count": null,
   "metadata": {},
   "outputs": [],
   "source": []
  },
  {
   "cell_type": "code",
   "execution_count": null,
   "metadata": {},
   "outputs": [],
   "source": []
  },
  {
   "cell_type": "markdown",
   "metadata": {},
   "source": [
    "Can you see the difference?"
   ]
  },
  {
   "cell_type": "code",
   "execution_count": null,
   "metadata": {},
   "outputs": [],
   "source": []
  },
  {
   "cell_type": "markdown",
   "metadata": {},
   "source": [
    "Exercise:\n",
    "\n",
    "Combined the custom input with the control flow above, create code that make like this output:\n",
    "```python\n",
    "How many input do you want? 3\n",
    "Input your gpa: 3.5\n",
    "\"Good one\"\n",
    "Input your gpa: 2.75\n",
    "\"Don't give up, get better!\"\n",
    "Input your gpa: 3.75\n",
    "\"Great result!\"\n",
    "```"
   ]
  },
  {
   "cell_type": "code",
   "execution_count": null,
   "metadata": {},
   "outputs": [],
   "source": []
  },
  {
   "cell_type": "code",
   "execution_count": null,
   "metadata": {},
   "outputs": [],
   "source": []
  },
  {
   "cell_type": "markdown",
   "metadata": {},
   "source": [
    "---"
   ]
  },
  {
   "cell_type": "markdown",
   "metadata": {},
   "source": [
    "# Introduce Pandas and Numpy\n",
    "Pandas and Numpy are the main package if you want to analyzing data and computing some of your data to Python.\n",
    "\n",
    "**Pandas** is mainly for analyzing data and changing some data, filtering and many more.\n",
    "\n",
    "**Numpy** is mainly for computation, such as statistical value, linear algebra, and many more."
   ]
  },
  {
   "cell_type": "markdown",
   "metadata": {},
   "source": [
    "```python\n",
    "#Let's import the package\n",
    "import pandas as pd\n",
    "import numpy as np\n",
    "```"
   ]
  },
  {
   "cell_type": "code",
   "execution_count": null,
   "metadata": {},
   "outputs": [],
   "source": []
  },
  {
   "cell_type": "markdown",
   "metadata": {},
   "source": [
    "```python\n",
    "# Now it's time to import the data\n",
    "data = pd.read_csv(\"iris.csv\")\n",
    "data.head()\n",
    "```"
   ]
  },
  {
   "cell_type": "code",
   "execution_count": null,
   "metadata": {},
   "outputs": [],
   "source": []
  },
  {
   "cell_type": "markdown",
   "metadata": {},
   "source": [
    "``.head()`` is using for getting first five of your data, if you want to get last five of your data, using ``.tail()``"
   ]
  },
  {
   "cell_type": "code",
   "execution_count": null,
   "metadata": {},
   "outputs": [],
   "source": []
  },
  {
   "cell_type": "markdown",
   "metadata": {},
   "source": [
    "For checking the column names, using ``.columns``"
   ]
  },
  {
   "cell_type": "code",
   "execution_count": null,
   "metadata": {},
   "outputs": [],
   "source": []
  },
  {
   "cell_type": "markdown",
   "metadata": {},
   "source": [
    "Getting statistical values? Use ``.describe()`` and you are all set!"
   ]
  },
  {
   "cell_type": "code",
   "execution_count": null,
   "metadata": {},
   "outputs": [],
   "source": []
  },
  {
   "cell_type": "markdown",
   "metadata": {},
   "source": [
    "What do you see? A bunch of numbers?"
   ]
  },
  {
   "cell_type": "code",
   "execution_count": null,
   "metadata": {},
   "outputs": [],
   "source": []
  },
  {
   "cell_type": "markdown",
   "metadata": {},
   "source": [
    "If you want to only filter selected columns, using ``data[[column name]]`` if more than one, just ``data[[column name 1, column name 2]]``"
   ]
  },
  {
   "cell_type": "code",
   "execution_count": null,
   "metadata": {},
   "outputs": [],
   "source": []
  },
  {
   "cell_type": "markdown",
   "metadata": {},
   "source": [
    "Then, if you want to filter based on data, you can use data ``[data[column name] > value itself]``"
   ]
  },
  {
   "cell_type": "code",
   "execution_count": null,
   "metadata": {},
   "outputs": [],
   "source": []
  },
  {
   "cell_type": "markdown",
   "metadata": {},
   "source": [
    "Quick question: How many data that **sepal_length** is more than 5?"
   ]
  },
  {
   "cell_type": "code",
   "execution_count": null,
   "metadata": {},
   "outputs": [],
   "source": []
  },
  {
   "cell_type": "markdown",
   "metadata": {},
   "source": [
    "So, what does **Numpy** do?\n",
    "\n",
    "**Numpy** doing computation of your data. How to do that?\n",
    "\n",
    "```python\n",
    "sepal_width_value = data[['sepal_width']].values\n",
    "print(np.sum(sepal_width_value)\n",
    "```"
   ]
  },
  {
   "cell_type": "code",
   "execution_count": null,
   "metadata": {},
   "outputs": [],
   "source": []
  },
  {
   "cell_type": "markdown",
   "metadata": {},
   "source": [
    "As simple as that, for more information you can check it yourself by using ``Shift + Tab``."
   ]
  },
  {
   "cell_type": "code",
   "execution_count": null,
   "metadata": {},
   "outputs": [],
   "source": []
  },
  {
   "cell_type": "markdown",
   "metadata": {},
   "source": [
    "You can do the computation from Pandas DataFrame."
   ]
  },
  {
   "cell_type": "code",
   "execution_count": null,
   "metadata": {},
   "outputs": [],
   "source": []
  },
  {
   "cell_type": "code",
   "execution_count": null,
   "metadata": {},
   "outputs": [],
   "source": []
  },
  {
   "cell_type": "markdown",
   "metadata": {},
   "source": [
    "# Creating Simple ML (Linear Regression)\n",
    "In this section we are want to create simple machine learning based on data [House Price](https://www.kaggle.com/shree1992/housedata/). \n",
    "\n",
    "So our aim is to predict the house price based on several condition of house itself."
   ]
  },
  {
   "cell_type": "markdown",
   "metadata": {},
   "source": [
    "```python\n",
    "data_house = pd.read_csv(\"data.csv\")\n",
    "data_house.head()\n",
    "```"
   ]
  },
  {
   "cell_type": "code",
   "execution_count": null,
   "metadata": {},
   "outputs": [],
   "source": []
  },
  {
   "cell_type": "markdown",
   "metadata": {},
   "source": [
    "How to check how many your data in this data_house? Simply using ``.shape()``\n",
    "```python\n",
    "data_house.shape()\n",
    "```"
   ]
  },
  {
   "cell_type": "code",
   "execution_count": null,
   "metadata": {},
   "outputs": [],
   "source": []
  },
  {
   "cell_type": "markdown",
   "metadata": {},
   "source": [
    "## Analyzing Your Data\n",
    "In this phase you should know your data, is it some missing values, and some strange data and many more. This phase generally is one of the longest part, with acquiring data.\n",
    "\n",
    "Check how many **bedrooms** in this data using ``.value_counts()``"
   ]
  },
  {
   "cell_type": "code",
   "execution_count": null,
   "metadata": {},
   "outputs": [],
   "source": []
  },
  {
   "cell_type": "markdown",
   "metadata": {},
   "source": [
    "Do you see strange things? Let's find it out."
   ]
  },
  {
   "cell_type": "code",
   "execution_count": null,
   "metadata": {},
   "outputs": [],
   "source": []
  },
  {
   "cell_type": "markdown",
   "metadata": {},
   "source": [
    "Now, let's check maximum **price** you can get in this data, and filter the data based on it."
   ]
  },
  {
   "cell_type": "code",
   "execution_count": null,
   "metadata": {},
   "outputs": [],
   "source": []
  },
  {
   "cell_type": "markdown",
   "metadata": {},
   "source": [
    "Don't you feel confused?"
   ]
  },
  {
   "cell_type": "code",
   "execution_count": null,
   "metadata": {},
   "outputs": [],
   "source": []
  },
  {
   "cell_type": "code",
   "execution_count": null,
   "metadata": {},
   "outputs": [],
   "source": []
  },
  {
   "cell_type": "markdown",
   "metadata": {},
   "source": [
    "## Visualize your Data"
   ]
  },
  {
   "cell_type": "markdown",
   "metadata": {},
   "source": [
    "How if you want to know how many **condition** of this data? You can visualize using **Matplotlib** and **Seaborn**\n",
    "```python\n",
    "import matplotlib.pyplot as plt\n",
    "import seaborn as sns\n",
    "\n",
    "#to visualize how many condition\n",
    "plt.title(\"How many Condition in Data\")\n",
    "sns.countplot(data['condition'])\n",
    "```"
   ]
  },
  {
   "cell_type": "code",
   "execution_count": null,
   "metadata": {},
   "outputs": [],
   "source": []
  },
  {
   "cell_type": "markdown",
   "metadata": {},
   "source": [
    "What is the most **condition** in the data? Can you conclude?"
   ]
  },
  {
   "cell_type": "code",
   "execution_count": null,
   "metadata": {},
   "outputs": [],
   "source": []
  },
  {
   "cell_type": "markdown",
   "metadata": {},
   "source": [
    "How with **Price**? I want to know the distribution. Let's check with ``.distplot()``\n",
    "```python\n",
    "plt.title(\"Distribution of Price of Data\")\n",
    "sns.distplot(data['price']);\n",
    "```"
   ]
  },
  {
   "cell_type": "code",
   "execution_count": null,
   "metadata": {},
   "outputs": [],
   "source": []
  },
  {
   "cell_type": "markdown",
   "metadata": {},
   "source": [
    "Can you see something? Is it too hard? Let's add some code.\n",
    "```python\n",
    "#just add this code to see better viz\n",
    "ax = sns.distplot(data['price']);\n",
    "ax.set_yscale('log')\n",
    "```"
   ]
  },
  {
   "cell_type": "code",
   "execution_count": null,
   "metadata": {},
   "outputs": [],
   "source": []
  },
  {
   "cell_type": "markdown",
   "metadata": {},
   "source": [
    "Exercise: \n",
    "- How can I visualize **view** and **yr_built**?"
   ]
  },
  {
   "cell_type": "code",
   "execution_count": null,
   "metadata": {},
   "outputs": [],
   "source": []
  },
  {
   "cell_type": "markdown",
   "metadata": {},
   "source": [
    "## Selecting your Data\n",
    "This is the most important things, since that you should select to create the ML works.\n",
    "\n",
    "One way is using correlation plot to select the features we want to get models. Using ``data.corr()`` or ``data.corr(method='spearman')``"
   ]
  },
  {
   "cell_type": "code",
   "execution_count": null,
   "metadata": {},
   "outputs": [],
   "source": []
  },
  {
   "cell_type": "code",
   "execution_count": null,
   "metadata": {},
   "outputs": [],
   "source": []
  },
  {
   "cell_type": "markdown",
   "metadata": {},
   "source": [
    "The value of correlation is between -1 and 1, with meaning of these:\n",
    "- (-1) means negative correlation (when A increased, B decreased)\n",
    "- (0) means no correlation (don't have an impact)\n",
    "- (1) means positive correlation (when A increased, B increased too)"
   ]
  },
  {
   "cell_type": "markdown",
   "metadata": {},
   "source": [
    "Select 5 best features, and then save as **data_model**"
   ]
  },
  {
   "cell_type": "code",
   "execution_count": null,
   "metadata": {},
   "outputs": [],
   "source": []
  },
  {
   "cell_type": "markdown",
   "metadata": {},
   "source": [
    "## Machine Learning\n",
    "In this phase you will create simple machine learning."
   ]
  },
  {
   "cell_type": "code",
   "execution_count": null,
   "metadata": {},
   "outputs": [],
   "source": []
  },
  {
   "cell_type": "markdown",
   "metadata": {},
   "source": [
    "# Bonus\n",
    "```python\n",
    "def modelling(floors, bed, bath, sqft_above, sqft_living):\n",
    "    prediction = model.predict([[floors, bed, bath, sqft_above, sqft_living]])\n",
    "    return prediction[0]\n",
    "\n",
    "input_floors = float(input((\"Masukkan jumlah lantai: \")))\n",
    "input_bedrooms = float(input((\"Masukkan jumlah kamar tidur: \")))\n",
    "input_bathrooms=float(input((\"Masukkan jumlah kamar mandi: \")))\n",
    "input_sqft_above=float(input((\"Masukkan luas ruangan atas: \")))\n",
    "input_sqft_living=float(input((\"Masukkan luas ruangan tamu: \")))\n",
    "\n",
    "modelling(input_floors, input_bedrooms, input_bathrooms, input_sqft_above, input_sqft_living)\n",
    "```"
   ]
  },
  {
   "cell_type": "code",
   "execution_count": null,
   "metadata": {},
   "outputs": [],
   "source": []
  }
 ],
 "metadata": {
  "kernelspec": {
   "display_name": "Python 3",
   "language": "python",
   "name": "python3"
  },
  "language_info": {
   "codemirror_mode": {
    "name": "ipython",
    "version": 3
   },
   "file_extension": ".py",
   "mimetype": "text/x-python",
   "name": "python",
   "nbconvert_exporter": "python",
   "pygments_lexer": "ipython3",
   "version": "3.7.6"
  },
  "toc": {
   "base_numbering": 1,
   "nav_menu": {},
   "number_sections": true,
   "sideBar": true,
   "skip_h1_title": false,
   "title_cell": "Table of Contents",
   "title_sidebar": "Contents",
   "toc_cell": false,
   "toc_position": {},
   "toc_section_display": true,
   "toc_window_display": false
  },
  "varInspector": {
   "cols": {
    "lenName": 16,
    "lenType": 16,
    "lenVar": 40
   },
   "kernels_config": {
    "python": {
     "delete_cmd_postfix": "",
     "delete_cmd_prefix": "del ",
     "library": "var_list.py",
     "varRefreshCmd": "print(var_dic_list())"
    },
    "r": {
     "delete_cmd_postfix": ") ",
     "delete_cmd_prefix": "rm(",
     "library": "var_list.r",
     "varRefreshCmd": "cat(var_dic_list()) "
    }
   },
   "types_to_exclude": [
    "module",
    "function",
    "builtin_function_or_method",
    "instance",
    "_Feature"
   ],
   "window_display": false
  }
 },
 "nbformat": 4,
 "nbformat_minor": 4
}
