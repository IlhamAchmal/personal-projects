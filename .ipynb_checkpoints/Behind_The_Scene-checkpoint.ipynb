{
 "cells": [
  {
   "cell_type": "code",
   "execution_count": 80,
   "metadata": {
    "ExecuteTime": {
     "end_time": "2019-10-27T00:39:32.049271Z",
     "start_time": "2019-10-27T00:39:31.905716Z"
    }
   },
   "outputs": [
    {
     "data": {
      "text/html": [
       "<div>\n",
       "<style scoped>\n",
       "    .dataframe tbody tr th:only-of-type {\n",
       "        vertical-align: middle;\n",
       "    }\n",
       "\n",
       "    .dataframe tbody tr th {\n",
       "        vertical-align: top;\n",
       "    }\n",
       "\n",
       "    .dataframe thead th {\n",
       "        text-align: right;\n",
       "    }\n",
       "</style>\n",
       "<table border=\"1\" class=\"dataframe\">\n",
       "  <thead>\n",
       "    <tr style=\"text-align: right;\">\n",
       "      <th></th>\n",
       "      <th>date</th>\n",
       "      <th>price</th>\n",
       "      <th>bedrooms</th>\n",
       "      <th>bathrooms</th>\n",
       "      <th>sqft_living</th>\n",
       "      <th>sqft_lot</th>\n",
       "      <th>floors</th>\n",
       "      <th>waterfront</th>\n",
       "      <th>view</th>\n",
       "      <th>condition</th>\n",
       "      <th>sqft_above</th>\n",
       "      <th>sqft_basement</th>\n",
       "      <th>yr_built</th>\n",
       "      <th>yr_renovated</th>\n",
       "      <th>street</th>\n",
       "      <th>city</th>\n",
       "      <th>statezip</th>\n",
       "      <th>country</th>\n",
       "    </tr>\n",
       "  </thead>\n",
       "  <tbody>\n",
       "    <tr>\n",
       "      <th>0</th>\n",
       "      <td>2014-05-02 00:00:00</td>\n",
       "      <td>313000.0</td>\n",
       "      <td>3.0</td>\n",
       "      <td>1.5</td>\n",
       "      <td>1340</td>\n",
       "      <td>7912</td>\n",
       "      <td>1.5</td>\n",
       "      <td>0</td>\n",
       "      <td>0</td>\n",
       "      <td>3</td>\n",
       "      <td>1340</td>\n",
       "      <td>0</td>\n",
       "      <td>1955</td>\n",
       "      <td>2005</td>\n",
       "      <td>18810 Densmore Ave N</td>\n",
       "      <td>Shoreline</td>\n",
       "      <td>WA 98133</td>\n",
       "      <td>USA</td>\n",
       "    </tr>\n",
       "    <tr>\n",
       "      <th>1</th>\n",
       "      <td>2014-05-02 00:00:00</td>\n",
       "      <td>2384000.0</td>\n",
       "      <td>5.0</td>\n",
       "      <td>2.5</td>\n",
       "      <td>3650</td>\n",
       "      <td>9050</td>\n",
       "      <td>2.0</td>\n",
       "      <td>0</td>\n",
       "      <td>4</td>\n",
       "      <td>5</td>\n",
       "      <td>3370</td>\n",
       "      <td>280</td>\n",
       "      <td>1921</td>\n",
       "      <td>0</td>\n",
       "      <td>709 W Blaine St</td>\n",
       "      <td>Seattle</td>\n",
       "      <td>WA 98119</td>\n",
       "      <td>USA</td>\n",
       "    </tr>\n",
       "    <tr>\n",
       "      <th>2</th>\n",
       "      <td>2014-05-02 00:00:00</td>\n",
       "      <td>342000.0</td>\n",
       "      <td>3.0</td>\n",
       "      <td>2.0</td>\n",
       "      <td>1930</td>\n",
       "      <td>11947</td>\n",
       "      <td>1.0</td>\n",
       "      <td>0</td>\n",
       "      <td>0</td>\n",
       "      <td>4</td>\n",
       "      <td>1930</td>\n",
       "      <td>0</td>\n",
       "      <td>1966</td>\n",
       "      <td>0</td>\n",
       "      <td>26206-26214 143rd Ave SE</td>\n",
       "      <td>Kent</td>\n",
       "      <td>WA 98042</td>\n",
       "      <td>USA</td>\n",
       "    </tr>\n",
       "    <tr>\n",
       "      <th>3</th>\n",
       "      <td>2014-05-02 00:00:00</td>\n",
       "      <td>420000.0</td>\n",
       "      <td>3.0</td>\n",
       "      <td>2.2</td>\n",
       "      <td>2000</td>\n",
       "      <td>8030</td>\n",
       "      <td>1.0</td>\n",
       "      <td>0</td>\n",
       "      <td>0</td>\n",
       "      <td>4</td>\n",
       "      <td>1000</td>\n",
       "      <td>1000</td>\n",
       "      <td>1963</td>\n",
       "      <td>0</td>\n",
       "      <td>857 170th Pl NE</td>\n",
       "      <td>Bellevue</td>\n",
       "      <td>WA 98008</td>\n",
       "      <td>USA</td>\n",
       "    </tr>\n",
       "    <tr>\n",
       "      <th>4</th>\n",
       "      <td>2014-05-02 00:00:00</td>\n",
       "      <td>550000.0</td>\n",
       "      <td>4.0</td>\n",
       "      <td>2.5</td>\n",
       "      <td>1940</td>\n",
       "      <td>10500</td>\n",
       "      <td>1.0</td>\n",
       "      <td>0</td>\n",
       "      <td>0</td>\n",
       "      <td>4</td>\n",
       "      <td>1140</td>\n",
       "      <td>800</td>\n",
       "      <td>1976</td>\n",
       "      <td>1992</td>\n",
       "      <td>9105 170th Ave NE</td>\n",
       "      <td>Redmond</td>\n",
       "      <td>WA 98052</td>\n",
       "      <td>USA</td>\n",
       "    </tr>\n",
       "  </tbody>\n",
       "</table>\n",
       "</div>"
      ],
      "text/plain": [
       "                  date     price  bedrooms  bathrooms  sqft_living  sqft_lot  \\\n",
       "0  2014-05-02 00:00:00  313000.0       3.0        1.5         1340      7912   \n",
       "1  2014-05-02 00:00:00 2384000.0       5.0        2.5         3650      9050   \n",
       "2  2014-05-02 00:00:00  342000.0       3.0        2.0         1930     11947   \n",
       "3  2014-05-02 00:00:00  420000.0       3.0        2.2         2000      8030   \n",
       "4  2014-05-02 00:00:00  550000.0       4.0        2.5         1940     10500   \n",
       "\n",
       "   floors  waterfront  view  condition  sqft_above  sqft_basement  yr_built  \\\n",
       "0     1.5           0     0          3        1340              0      1955   \n",
       "1     2.0           0     4          5        3370            280      1921   \n",
       "2     1.0           0     0          4        1930              0      1966   \n",
       "3     1.0           0     0          4        1000           1000      1963   \n",
       "4     1.0           0     0          4        1140            800      1976   \n",
       "\n",
       "   yr_renovated                    street       city  statezip country  \n",
       "0          2005      18810 Densmore Ave N  Shoreline  WA 98133     USA  \n",
       "1             0           709 W Blaine St    Seattle  WA 98119     USA  \n",
       "2             0  26206-26214 143rd Ave SE       Kent  WA 98042     USA  \n",
       "3             0           857 170th Pl NE   Bellevue  WA 98008     USA  \n",
       "4          1992         9105 170th Ave NE    Redmond  WA 98052     USA  "
      ]
     },
     "execution_count": 80,
     "metadata": {},
     "output_type": "execute_result"
    }
   ],
   "source": [
    "import pandas as pd\n",
    "data = pd.read_csv('data.csv')\n",
    "data.head()"
   ]
  },
  {
   "cell_type": "code",
   "execution_count": 81,
   "metadata": {
    "ExecuteTime": {
     "end_time": "2019-10-27T00:39:32.901273Z",
     "start_time": "2019-10-27T00:39:32.890337Z"
    }
   },
   "outputs": [
    {
     "data": {
      "text/plain": [
       "(4600, 18)"
      ]
     },
     "execution_count": 81,
     "metadata": {},
     "output_type": "execute_result"
    }
   ],
   "source": [
    "data.shape"
   ]
  },
  {
   "cell_type": "code",
   "execution_count": 82,
   "metadata": {
    "ExecuteTime": {
     "end_time": "2019-10-27T00:39:37.334158Z",
     "start_time": "2019-10-27T00:39:37.317161Z"
    }
   },
   "outputs": [
    {
     "data": {
      "text/plain": [
       "3.0    2032\n",
       "4.0    1531\n",
       "2.0     566\n",
       "5.0     353\n",
       "6.0      61\n",
       "1.0      38\n",
       "7.0      14\n",
       "0.0       2\n",
       "8.0       2\n",
       "9.0       1\n",
       "Name: bedrooms, dtype: int64"
      ]
     },
     "execution_count": 82,
     "metadata": {},
     "output_type": "execute_result"
    }
   ],
   "source": [
    "data['bedrooms'].value_counts()"
   ]
  },
  {
   "cell_type": "code",
   "execution_count": 83,
   "metadata": {
    "ExecuteTime": {
     "end_time": "2019-10-27T00:39:37.692307Z",
     "start_time": "2019-10-27T00:39:37.655827Z"
    }
   },
   "outputs": [
    {
     "data": {
      "text/html": [
       "<div>\n",
       "<style scoped>\n",
       "    .dataframe tbody tr th:only-of-type {\n",
       "        vertical-align: middle;\n",
       "    }\n",
       "\n",
       "    .dataframe tbody tr th {\n",
       "        vertical-align: top;\n",
       "    }\n",
       "\n",
       "    .dataframe thead th {\n",
       "        text-align: right;\n",
       "    }\n",
       "</style>\n",
       "<table border=\"1\" class=\"dataframe\">\n",
       "  <thead>\n",
       "    <tr style=\"text-align: right;\">\n",
       "      <th></th>\n",
       "      <th>date</th>\n",
       "      <th>price</th>\n",
       "      <th>bedrooms</th>\n",
       "      <th>bathrooms</th>\n",
       "      <th>sqft_living</th>\n",
       "      <th>sqft_lot</th>\n",
       "      <th>floors</th>\n",
       "      <th>waterfront</th>\n",
       "      <th>view</th>\n",
       "      <th>condition</th>\n",
       "      <th>sqft_above</th>\n",
       "      <th>sqft_basement</th>\n",
       "      <th>yr_built</th>\n",
       "      <th>yr_renovated</th>\n",
       "      <th>street</th>\n",
       "      <th>city</th>\n",
       "      <th>statezip</th>\n",
       "      <th>country</th>\n",
       "    </tr>\n",
       "  </thead>\n",
       "  <tbody>\n",
       "    <tr>\n",
       "      <th>241</th>\n",
       "      <td>2014-05-07 00:00:00</td>\n",
       "      <td>599999.0</td>\n",
       "      <td>9.0</td>\n",
       "      <td>4.5</td>\n",
       "      <td>3830</td>\n",
       "      <td>6988</td>\n",
       "      <td>2.5</td>\n",
       "      <td>0</td>\n",
       "      <td>0</td>\n",
       "      <td>3</td>\n",
       "      <td>2450</td>\n",
       "      <td>1380</td>\n",
       "      <td>1938</td>\n",
       "      <td>2003</td>\n",
       "      <td>8809 Densmore Ave N</td>\n",
       "      <td>Seattle</td>\n",
       "      <td>WA 98103</td>\n",
       "      <td>USA</td>\n",
       "    </tr>\n",
       "  </tbody>\n",
       "</table>\n",
       "</div>"
      ],
      "text/plain": [
       "                    date    price  bedrooms  bathrooms  sqft_living  sqft_lot  \\\n",
       "241  2014-05-07 00:00:00 599999.0       9.0        4.5         3830      6988   \n",
       "\n",
       "     floors  waterfront  view  condition  sqft_above  sqft_basement  yr_built  \\\n",
       "241     2.5           0     0          3        2450           1380      1938   \n",
       "\n",
       "     yr_renovated               street     city  statezip country  \n",
       "241          2003  8809 Densmore Ave N  Seattle  WA 98103     USA  "
      ]
     },
     "execution_count": 83,
     "metadata": {},
     "output_type": "execute_result"
    }
   ],
   "source": [
    "data[data['bedrooms'] == 9]"
   ]
  },
  {
   "cell_type": "code",
   "execution_count": 84,
   "metadata": {
    "ExecuteTime": {
     "end_time": "2019-10-27T00:39:38.018635Z",
     "start_time": "2019-10-27T00:39:38.005644Z"
    }
   },
   "outputs": [
    {
     "data": {
      "text/plain": [
       "26590000.0"
      ]
     },
     "execution_count": 84,
     "metadata": {},
     "output_type": "execute_result"
    }
   ],
   "source": [
    "data['price'].max()"
   ]
  },
  {
   "cell_type": "code",
   "execution_count": 85,
   "metadata": {
    "ExecuteTime": {
     "end_time": "2019-10-27T00:39:38.299167Z",
     "start_time": "2019-10-27T00:39:38.265296Z"
    }
   },
   "outputs": [
    {
     "data": {
      "text/html": [
       "<div>\n",
       "<style scoped>\n",
       "    .dataframe tbody tr th:only-of-type {\n",
       "        vertical-align: middle;\n",
       "    }\n",
       "\n",
       "    .dataframe tbody tr th {\n",
       "        vertical-align: top;\n",
       "    }\n",
       "\n",
       "    .dataframe thead th {\n",
       "        text-align: right;\n",
       "    }\n",
       "</style>\n",
       "<table border=\"1\" class=\"dataframe\">\n",
       "  <thead>\n",
       "    <tr style=\"text-align: right;\">\n",
       "      <th></th>\n",
       "      <th>date</th>\n",
       "      <th>price</th>\n",
       "      <th>bedrooms</th>\n",
       "      <th>bathrooms</th>\n",
       "      <th>sqft_living</th>\n",
       "      <th>sqft_lot</th>\n",
       "      <th>floors</th>\n",
       "      <th>waterfront</th>\n",
       "      <th>view</th>\n",
       "      <th>condition</th>\n",
       "      <th>sqft_above</th>\n",
       "      <th>sqft_basement</th>\n",
       "      <th>yr_built</th>\n",
       "      <th>yr_renovated</th>\n",
       "      <th>street</th>\n",
       "      <th>city</th>\n",
       "      <th>statezip</th>\n",
       "      <th>country</th>\n",
       "    </tr>\n",
       "  </thead>\n",
       "  <tbody>\n",
       "    <tr>\n",
       "      <th>4350</th>\n",
       "      <td>2014-07-03 00:00:00</td>\n",
       "      <td>26590000.0</td>\n",
       "      <td>3.0</td>\n",
       "      <td>2.0</td>\n",
       "      <td>1180</td>\n",
       "      <td>7793</td>\n",
       "      <td>1.0</td>\n",
       "      <td>0</td>\n",
       "      <td>0</td>\n",
       "      <td>4</td>\n",
       "      <td>1180</td>\n",
       "      <td>0</td>\n",
       "      <td>1992</td>\n",
       "      <td>0</td>\n",
       "      <td>12005 SE 219th Ct</td>\n",
       "      <td>Kent</td>\n",
       "      <td>WA 98031</td>\n",
       "      <td>USA</td>\n",
       "    </tr>\n",
       "  </tbody>\n",
       "</table>\n",
       "</div>"
      ],
      "text/plain": [
       "                     date      price  bedrooms  bathrooms  sqft_living  \\\n",
       "4350  2014-07-03 00:00:00 26590000.0       3.0        2.0         1180   \n",
       "\n",
       "      sqft_lot  floors  waterfront  view  condition  sqft_above  \\\n",
       "4350      7793     1.0           0     0          4        1180   \n",
       "\n",
       "      sqft_basement  yr_built  yr_renovated             street  city  \\\n",
       "4350              0      1992             0  12005 SE 219th Ct  Kent   \n",
       "\n",
       "      statezip country  \n",
       "4350  WA 98031     USA  "
      ]
     },
     "execution_count": 85,
     "metadata": {},
     "output_type": "execute_result"
    }
   ],
   "source": [
    "data[data['price'] == 26590000.0]"
   ]
  },
  {
   "cell_type": "code",
   "execution_count": 86,
   "metadata": {
    "ExecuteTime": {
     "end_time": "2019-10-27T00:39:38.516630Z",
     "start_time": "2019-10-27T00:39:38.487700Z"
    }
   },
   "outputs": [
    {
     "name": "stdout",
     "output_type": "stream",
     "text": [
      "<class 'pandas.core.frame.DataFrame'>\n",
      "RangeIndex: 4600 entries, 0 to 4599\n",
      "Data columns (total 18 columns):\n",
      "date             4600 non-null object\n",
      "price            4600 non-null float64\n",
      "bedrooms         4600 non-null float64\n",
      "bathrooms        4600 non-null float64\n",
      "sqft_living      4600 non-null int64\n",
      "sqft_lot         4600 non-null int64\n",
      "floors           4600 non-null float64\n",
      "waterfront       4600 non-null int64\n",
      "view             4600 non-null int64\n",
      "condition        4600 non-null int64\n",
      "sqft_above       4600 non-null int64\n",
      "sqft_basement    4600 non-null int64\n",
      "yr_built         4600 non-null int64\n",
      "yr_renovated     4600 non-null int64\n",
      "street           4600 non-null object\n",
      "city             4600 non-null object\n",
      "statezip         4600 non-null object\n",
      "country          4600 non-null object\n",
      "dtypes: float64(4), int64(9), object(5)\n",
      "memory usage: 647.0+ KB\n"
     ]
    }
   ],
   "source": [
    "data.info()"
   ]
  },
  {
   "cell_type": "code",
   "execution_count": 87,
   "metadata": {
    "ExecuteTime": {
     "end_time": "2019-10-27T00:39:38.729058Z",
     "start_time": "2019-10-27T00:39:38.722039Z"
    }
   },
   "outputs": [],
   "source": [
    "import matplotlib.pyplot as plt\n",
    "import seaborn as sns"
   ]
  },
  {
   "cell_type": "code",
   "execution_count": 88,
   "metadata": {
    "ExecuteTime": {
     "end_time": "2019-10-27T00:39:39.928359Z",
     "start_time": "2019-10-27T00:39:39.177302Z"
    }
   },
   "outputs": [
    {
     "data": {
      "image/png": "[encoded data removed]",
      "text/plain": [
       "<Figure size 432x288 with 1 Axes>"
      ]
     },
     "metadata": {
      "needs_background": "light"
     },
     "output_type": "display_data"
    }
   ],
   "source": [
    "plt.title(\"Distribution of Year Built\")\n",
    "sns.distplot(data['yr_built'],kde=False);"
   ]
  },
  {
   "cell_type": "code",
   "execution_count": 89,
   "metadata": {
    "ExecuteTime": {
     "end_time": "2019-10-27T00:39:40.709990Z",
     "start_time": "2019-10-27T00:39:40.064993Z"
    }
   },
   "outputs": [
    {
     "data": {
      "image/png": "[encoded data removed]",
      "text/plain": [
       "<Figure size 432x288 with 1 Axes>"
      ]
     },
     "metadata": {
      "needs_background": "light"
     },
     "output_type": "display_data"
    }
   ],
   "source": [
    "plt.title(\"Distribution of Year Built\")\n",
    "sns.distplot(data['price'],kde=False,);"
   ]
  },
  {
   "cell_type": "code",
   "execution_count": 90,
   "metadata": {
    "ExecuteTime": {
     "end_time": "2019-10-27T00:39:44.278233Z",
     "start_time": "2019-10-27T00:39:40.845628Z"
    }
   },
   "outputs": [
    {
     "data": {
      "image/png": "[encoded data removed]",
      "text/plain": [
       "<Figure size 432x288 with 1 Axes>"
      ]
     },
     "metadata": {
      "needs_background": "light"
     },
     "output_type": "display_data"
    }
   ],
   "source": [
    "plt.title(\"Distribution of Year Built\")\n",
    "ax = sns.distplot(data['price'],kde=False);\n",
    "ax.set_yscale('log')\n",
    "#ax.set_xscale('log')"
   ]
  },
  {
   "cell_type": "code",
   "execution_count": 164,
   "metadata": {
    "ExecuteTime": {
     "end_time": "2019-10-27T02:06:39.517500Z",
     "start_time": "2019-10-27T02:06:39.162586Z"
    }
   },
   "outputs": [
    {
     "data": {
      "text/plain": [
       "<matplotlib.axes._subplots.AxesSubplot at 0x19e2b3da908>"
      ]
     },
     "execution_count": 164,
     "metadata": {},
     "output_type": "execute_result"
    },
    {
     "data": {
      "image/png": "[encoded data removed]",
      "text/plain": [
       "<Figure size 432x288 with 1 Axes>"
      ]
     },
     "metadata": {
      "needs_background": "light"
     },
     "output_type": "display_data"
    }
   ],
   "source": [
    "sns.countplot(data['view'])"
   ]
  },
  {
   "cell_type": "code",
   "execution_count": 107,
   "metadata": {
    "ExecuteTime": {
     "end_time": "2019-10-27T00:47:25.936570Z",
     "start_time": "2019-10-27T00:47:25.419845Z"
    }
   },
   "outputs": [
    {
     "data": {
      "image/png": "[encoded data removed]",
      "text/plain": [
       "<Figure size 432x288 with 1 Axes>"
      ]
     },
     "metadata": {
      "needs_background": "light"
     },
     "output_type": "display_data"
    }
   ],
   "source": [
    "sns.scatterplot('sqft_living', 'price', data=data);"
   ]
  },
  {
   "cell_type": "code",
   "execution_count": 118,
   "metadata": {
    "ExecuteTime": {
     "end_time": "2019-10-27T00:56:32.067996Z",
     "start_time": "2019-10-27T00:56:32.049851Z"
    }
   },
   "outputs": [],
   "source": [
    "q1 = data['price'].describe()[4]\n",
    "q3 = data['price'].describe()[6]"
   ]
  },
  {
   "cell_type": "code",
   "execution_count": 119,
   "metadata": {
    "ExecuteTime": {
     "end_time": "2019-10-27T00:56:32.504063Z",
     "start_time": "2019-10-27T00:56:32.488108Z"
    }
   },
   "outputs": [
    {
     "data": {
      "text/plain": [
       "count       4600.00\n",
       "mean      551962.99\n",
       "std       563834.70\n",
       "min            0.00\n",
       "25%       322875.00\n",
       "50%       460943.46\n",
       "75%       654962.50\n",
       "max     26590000.00\n",
       "Name: price, dtype: float64"
      ]
     },
     "execution_count": 119,
     "metadata": {},
     "output_type": "execute_result"
    }
   ],
   "source": [
    "data['price'].describe()"
   ]
  },
  {
   "cell_type": "code",
   "execution_count": 120,
   "metadata": {
    "ExecuteTime": {
     "end_time": "2019-10-27T00:56:35.173743Z",
     "start_time": "2019-10-27T00:56:35.157784Z"
    }
   },
   "outputs": [
    {
     "data": {
      "text/plain": [
       "count    4600.00\n",
       "mean     2139.35\n",
       "std       963.21\n",
       "min       370.00\n",
       "25%      1460.00\n",
       "50%      1980.00\n",
       "75%      2620.00\n",
       "max     13540.00\n",
       "Name: sqft_living, dtype: float64"
      ]
     },
     "execution_count": 120,
     "metadata": {},
     "output_type": "execute_result"
    }
   ],
   "source": [
    "data['sqft_living'].describe()"
   ]
  },
  {
   "cell_type": "code",
   "execution_count": 121,
   "metadata": {
    "ExecuteTime": {
     "end_time": "2019-10-27T00:56:35.656108Z",
     "start_time": "2019-10-27T00:56:35.644139Z"
    }
   },
   "outputs": [
    {
     "name": "stdout",
     "output_type": "stream",
     "text": [
      "-175256.25\n",
      "--------------\n",
      "1153093.75\n"
     ]
    }
   ],
   "source": [
    "print(q1 - (1.5*(q3-q1)))\n",
    "print(\"--------------\")\n",
    "print(q3 + (1.5*(q3-q1)))"
   ]
  },
  {
   "cell_type": "code",
   "execution_count": 124,
   "metadata": {
    "ExecuteTime": {
     "end_time": "2019-10-27T01:00:03.836178Z",
     "start_time": "2019-10-27T01:00:03.826205Z"
    }
   },
   "outputs": [],
   "source": [
    "data = data[data['price'] <= 1153093.75]"
   ]
  },
  {
   "cell_type": "code",
   "execution_count": 125,
   "metadata": {
    "ExecuteTime": {
     "end_time": "2019-10-27T01:00:09.021109Z",
     "start_time": "2019-10-27T01:00:08.841547Z"
    }
   },
   "outputs": [
    {
     "data": {
      "text/plain": [
       "['yr_renovated',\n",
       " 'condition',\n",
       " 'sqft_lot',\n",
       " 'waterfront',\n",
       " 'yr_built',\n",
       " 'view',\n",
       " 'sqft_basement',\n",
       " 'bedrooms',\n",
       " 'floors',\n",
       " 'bathrooms',\n",
       " 'sqft_above',\n",
       " 'sqft_living',\n",
       " 'price']"
      ]
     },
     "execution_count": 125,
     "metadata": {},
     "output_type": "execute_result"
    }
   ],
   "source": [
    "list(data.corr(method='spearman')['price'].sort_values().index)"
   ]
  },
  {
   "cell_type": "code",
   "execution_count": 126,
   "metadata": {
    "ExecuteTime": {
     "end_time": "2019-10-27T01:00:12.485495Z",
     "start_time": "2019-10-27T01:00:12.306261Z"
    }
   },
   "outputs": [
    {
     "data": {
      "text/plain": [
       "price            1.00\n",
       "bedrooms         0.30\n",
       "bathrooms        0.45\n",
       "sqft_living      0.58\n",
       "sqft_lot         0.03\n",
       "floors           0.30\n",
       "waterfront       0.04\n",
       "view             0.19\n",
       "condition        0.02\n",
       "sqft_above       0.49\n",
       "sqft_basement    0.19\n",
       "yr_built         0.09\n",
       "yr_renovated    -0.07\n",
       "Name: price, dtype: float64"
      ]
     },
     "execution_count": 126,
     "metadata": {},
     "output_type": "execute_result"
    }
   ],
   "source": [
    "data.corr(method='spearman')['price']"
   ]
  },
  {
   "cell_type": "code",
   "execution_count": 140,
   "metadata": {
    "ExecuteTime": {
     "end_time": "2019-10-27T01:01:36.679199Z",
     "start_time": "2019-10-27T01:01:36.671766Z"
    }
   },
   "outputs": [],
   "source": [
    "data_model = data[[ 'bedrooms',\n",
    " 'floors',\n",
    " 'bathrooms',\n",
    " 'sqft_above',\n",
    " 'sqft_living',\n",
    " 'price']]"
   ]
  },
  {
   "cell_type": "code",
   "execution_count": 141,
   "metadata": {
    "ExecuteTime": {
     "end_time": "2019-10-27T01:01:38.732462Z",
     "start_time": "2019-10-27T01:01:38.726492Z"
    }
   },
   "outputs": [],
   "source": [
    "pd.options.display.float_format = '{:.2f}'.format"
   ]
  },
  {
   "cell_type": "code",
   "execution_count": 142,
   "metadata": {
    "ExecuteTime": {
     "end_time": "2019-10-27T01:01:42.724960Z",
     "start_time": "2019-10-27T01:01:42.718980Z"
    }
   },
   "outputs": [],
   "source": [
    "from sklearn.linear_model import LinearRegression\n",
    "from sklearn.model_selection import train_test_split"
   ]
  },
  {
   "cell_type": "code",
   "execution_count": null,
   "metadata": {},
   "outputs": [],
   "source": []
  },
  {
   "cell_type": "code",
   "execution_count": 143,
   "metadata": {
    "ExecuteTime": {
     "end_time": "2019-10-27T01:01:43.486576Z",
     "start_time": "2019-10-27T01:01:43.478597Z"
    }
   },
   "outputs": [],
   "source": [
    "X = data_model.drop('price',axis=1)\n",
    "y = data_model['price']"
   ]
  },
  {
   "cell_type": "code",
   "execution_count": 144,
   "metadata": {
    "ExecuteTime": {
     "end_time": "2019-10-27T01:01:43.856291Z",
     "start_time": "2019-10-27T01:01:43.846281Z"
    }
   },
   "outputs": [],
   "source": [
    "X_train, X_test, y_train, y_test = train_test_split(X, y, test_size=.2, random_state=1)"
   ]
  },
  {
   "cell_type": "code",
   "execution_count": 145,
   "metadata": {
    "ExecuteTime": {
     "end_time": "2019-10-27T01:01:44.137502Z",
     "start_time": "2019-10-27T01:01:44.132515Z"
    }
   },
   "outputs": [],
   "source": [
    "model = LinearRegression()"
   ]
  },
  {
   "cell_type": "code",
   "execution_count": 146,
   "metadata": {
    "ExecuteTime": {
     "end_time": "2019-10-27T01:01:44.816723Z",
     "start_time": "2019-10-27T01:01:44.803758Z"
    }
   },
   "outputs": [
    {
     "data": {
      "text/plain": [
       "LinearRegression(copy_X=True, fit_intercept=True, n_jobs=None, normalize=False)"
      ]
     },
     "execution_count": 146,
     "metadata": {},
     "output_type": "execute_result"
    }
   ],
   "source": [
    "model.fit(X_train, y_train)"
   ]
  },
  {
   "cell_type": "code",
   "execution_count": 157,
   "metadata": {
    "ExecuteTime": {
     "end_time": "2019-10-27T01:03:54.537281Z",
     "start_time": "2019-10-27T01:03:54.516305Z"
    }
   },
   "outputs": [
    {
     "ename": "IndexError",
     "evalue": "invalid index to scalar variable.",
     "output_type": "error",
     "traceback": [
      "\u001b[1;31m---------------------------------------------------------------------------\u001b[0m",
      "\u001b[1;31mIndexError\u001b[0m                                Traceback (most recent call last)",
      "\u001b[1;32m<ipython-input-157-03becaf8f493>\u001b[0m in \u001b[0;36m<module>\u001b[1;34m\u001b[0m\n\u001b[0;32m      1\u001b[0m \u001b[0mval\u001b[0m \u001b[1;33m=\u001b[0m \u001b[0mmodel\u001b[0m\u001b[1;33m.\u001b[0m\u001b[0mpredict\u001b[0m\u001b[1;33m(\u001b[0m\u001b[0mnp\u001b[0m\u001b[1;33m.\u001b[0m\u001b[0marray\u001b[0m\u001b[1;33m(\u001b[0m\u001b[1;33m[\u001b[0m\u001b[1;33m[\u001b[0m\u001b[1;36m1\u001b[0m\u001b[1;33m,\u001b[0m \u001b[1;36m3\u001b[0m\u001b[1;33m,\u001b[0m \u001b[1;36m2\u001b[0m\u001b[1;33m,\u001b[0m \u001b[1;36m2000\u001b[0m \u001b[1;33m,\u001b[0m\u001b[1;36m2000\u001b[0m\u001b[1;33m]\u001b[0m\u001b[1;33m]\u001b[0m\u001b[1;33m)\u001b[0m\u001b[1;33m)\u001b[0m\u001b[1;33m\u001b[0m\u001b[1;33m\u001b[0m\u001b[0m\n\u001b[1;32m----> 2\u001b[1;33m \u001b[0mprint\u001b[0m\u001b[1;33m(\u001b[0m\u001b[0mval\u001b[0m\u001b[1;33m[\u001b[0m\u001b[1;36m0\u001b[0m\u001b[1;33m]\u001b[0m\u001b[1;33m[\u001b[0m\u001b[1;36m0\u001b[0m\u001b[1;33m]\u001b[0m\u001b[1;33m)\u001b[0m\u001b[1;33m\u001b[0m\u001b[1;33m\u001b[0m\u001b[0m\n\u001b[0m",
      "\u001b[1;31mIndexError\u001b[0m: invalid index to scalar variable."
     ]
    }
   ],
   "source": [
    "val = model.predict(np.array([[1, 3, 2, 2000 ,2000]]))\n",
    "print(val[0][0])"
   ]
  },
  {
   "cell_type": "code",
   "execution_count": 159,
   "metadata": {
    "ExecuteTime": {
     "end_time": "2019-10-27T01:04:13.929312Z",
     "start_time": "2019-10-27T01:04:13.919342Z"
    }
   },
   "outputs": [
    {
     "data": {
      "text/plain": [
       "594209.5224014644"
      ]
     },
     "execution_count": 159,
     "metadata": {},
     "output_type": "execute_result"
    }
   ],
   "source": [
    "val[0]"
   ]
  },
  {
   "cell_type": "code",
   "execution_count": 148,
   "metadata": {
    "ExecuteTime": {
     "end_time": "2019-10-27T01:01:50.088484Z",
     "start_time": "2019-10-27T01:01:50.076478Z"
    }
   },
   "outputs": [
    {
     "data": {
      "text/plain": [
       "181084.75130786453"
      ]
     },
     "execution_count": 148,
     "metadata": {},
     "output_type": "execute_result"
    }
   ],
   "source": [
    "from sklearn.metrics import mean_squared_error\n",
    "np.sqrt(mean_squared_error(y_test, model.predict(X_test)))"
   ]
  },
  {
   "cell_type": "code",
   "execution_count": 149,
   "metadata": {
    "ExecuteTime": {
     "end_time": "2019-10-27T01:01:52.935314Z",
     "start_time": "2019-10-27T01:01:52.924384Z"
    }
   },
   "outputs": [
    {
     "data": {
      "text/plain": [
       "4373    346750.00\n",
       "4570    318000.00\n",
       "4008    645000.00\n",
       "4019    821000.00\n",
       "3946   1150000.00\n",
       "1741    850000.00\n",
       "4318    342500.00\n",
       "588      90000.00\n",
       "3010    339990.00\n",
       "3154    285000.00\n",
       "4124    375000.00\n",
       "4115    585000.00\n",
       "1979    356000.00\n",
       "4486    229629.50\n",
       "377     230000.00\n",
       "93      770000.00\n",
       "796     248000.00\n",
       "918     442500.00\n",
       "3722    478000.00\n",
       "1038    515000.00\n",
       "3170    687500.00\n",
       "1875    453500.00\n",
       "3472    800000.00\n",
       "764     839000.00\n",
       "2914    605000.00\n",
       "840     377500.00\n",
       "2556    375000.00\n",
       "1473    590000.00\n",
       "4179    569000.00\n",
       "4045    230000.00\n",
       "          ...    \n",
       "48      445700.00\n",
       "4095    235000.00\n",
       "3548    279000.00\n",
       "4078    789900.00\n",
       "4359    439333.33\n",
       "2445    230000.00\n",
       "3495    900000.00\n",
       "3190    225000.00\n",
       "3342    283000.00\n",
       "1239   1050000.00\n",
       "1071    368250.00\n",
       "2254    700000.00\n",
       "1255    275000.00\n",
       "4365    444845.00\n",
       "1117    318989.00\n",
       "3777    725000.00\n",
       "2044    185000.00\n",
       "1760    474900.00\n",
       "2674    198000.00\n",
       "1114    285000.00\n",
       "1862    289950.00\n",
       "3461    580000.00\n",
       "1187    635700.00\n",
       "2258    680000.00\n",
       "2450    810000.00\n",
       "1816    285000.00\n",
       "3987    527000.00\n",
       "3994    320000.00\n",
       "4048    900000.00\n",
       "385     494000.00\n",
       "Name: price, Length: 872, dtype: float64"
      ]
     },
     "execution_count": 149,
     "metadata": {},
     "output_type": "execute_result"
    }
   ],
   "source": [
    "y_test"
   ]
  },
  {
   "cell_type": "code",
   "execution_count": 152,
   "metadata": {
    "ExecuteTime": {
     "end_time": "2019-10-27T01:02:34.568840Z",
     "start_time": "2019-10-27T01:02:34.541991Z"
    }
   },
   "outputs": [
    {
     "data": {
      "text/html": [
       "<div>\n",
       "<style scoped>\n",
       "    .dataframe tbody tr th:only-of-type {\n",
       "        vertical-align: middle;\n",
       "    }\n",
       "\n",
       "    .dataframe tbody tr th {\n",
       "        vertical-align: top;\n",
       "    }\n",
       "\n",
       "    .dataframe thead th {\n",
       "        text-align: right;\n",
       "    }\n",
       "</style>\n",
       "<table border=\"1\" class=\"dataframe\">\n",
       "  <thead>\n",
       "    <tr style=\"text-align: right;\">\n",
       "      <th></th>\n",
       "      <th>a</th>\n",
       "      <th>b</th>\n",
       "    </tr>\n",
       "  </thead>\n",
       "  <tbody>\n",
       "    <tr>\n",
       "      <th>4373</th>\n",
       "      <td>421119.83</td>\n",
       "      <td>346750.00</td>\n",
       "    </tr>\n",
       "    <tr>\n",
       "      <th>4570</th>\n",
       "      <td>426518.96</td>\n",
       "      <td>318000.00</td>\n",
       "    </tr>\n",
       "    <tr>\n",
       "      <th>4008</th>\n",
       "      <td>584421.90</td>\n",
       "      <td>645000.00</td>\n",
       "    </tr>\n",
       "    <tr>\n",
       "      <th>4019</th>\n",
       "      <td>605660.57</td>\n",
       "      <td>821000.00</td>\n",
       "    </tr>\n",
       "    <tr>\n",
       "      <th>3946</th>\n",
       "      <td>702403.56</td>\n",
       "      <td>1150000.00</td>\n",
       "    </tr>\n",
       "    <tr>\n",
       "      <th>1741</th>\n",
       "      <td>372716.57</td>\n",
       "      <td>850000.00</td>\n",
       "    </tr>\n",
       "    <tr>\n",
       "      <th>4318</th>\n",
       "      <td>356293.54</td>\n",
       "      <td>342500.00</td>\n",
       "    </tr>\n",
       "    <tr>\n",
       "      <th>588</th>\n",
       "      <td>291255.97</td>\n",
       "      <td>90000.00</td>\n",
       "    </tr>\n",
       "    <tr>\n",
       "      <th>3010</th>\n",
       "      <td>590457.66</td>\n",
       "      <td>339990.00</td>\n",
       "    </tr>\n",
       "    <tr>\n",
       "      <th>3154</th>\n",
       "      <td>443891.62</td>\n",
       "      <td>285000.00</td>\n",
       "    </tr>\n",
       "    <tr>\n",
       "      <th>4124</th>\n",
       "      <td>417555.86</td>\n",
       "      <td>375000.00</td>\n",
       "    </tr>\n",
       "    <tr>\n",
       "      <th>4115</th>\n",
       "      <td>574758.20</td>\n",
       "      <td>585000.00</td>\n",
       "    </tr>\n",
       "    <tr>\n",
       "      <th>1979</th>\n",
       "      <td>312193.97</td>\n",
       "      <td>356000.00</td>\n",
       "    </tr>\n",
       "    <tr>\n",
       "      <th>4486</th>\n",
       "      <td>341185.06</td>\n",
       "      <td>229629.50</td>\n",
       "    </tr>\n",
       "    <tr>\n",
       "      <th>377</th>\n",
       "      <td>362529.77</td>\n",
       "      <td>230000.00</td>\n",
       "    </tr>\n",
       "    <tr>\n",
       "      <th>93</th>\n",
       "      <td>549631.76</td>\n",
       "      <td>770000.00</td>\n",
       "    </tr>\n",
       "    <tr>\n",
       "      <th>796</th>\n",
       "      <td>464872.04</td>\n",
       "      <td>248000.00</td>\n",
       "    </tr>\n",
       "    <tr>\n",
       "      <th>918</th>\n",
       "      <td>425956.72</td>\n",
       "      <td>442500.00</td>\n",
       "    </tr>\n",
       "    <tr>\n",
       "      <th>3722</th>\n",
       "      <td>441539.82</td>\n",
       "      <td>478000.00</td>\n",
       "    </tr>\n",
       "    <tr>\n",
       "      <th>1038</th>\n",
       "      <td>581200.67</td>\n",
       "      <td>515000.00</td>\n",
       "    </tr>\n",
       "    <tr>\n",
       "      <th>3170</th>\n",
       "      <td>529391.10</td>\n",
       "      <td>687500.00</td>\n",
       "    </tr>\n",
       "    <tr>\n",
       "      <th>1875</th>\n",
       "      <td>483317.01</td>\n",
       "      <td>453500.00</td>\n",
       "    </tr>\n",
       "    <tr>\n",
       "      <th>3472</th>\n",
       "      <td>471053.97</td>\n",
       "      <td>800000.00</td>\n",
       "    </tr>\n",
       "    <tr>\n",
       "      <th>764</th>\n",
       "      <td>336759.91</td>\n",
       "      <td>839000.00</td>\n",
       "    </tr>\n",
       "    <tr>\n",
       "      <th>2914</th>\n",
       "      <td>573147.59</td>\n",
       "      <td>605000.00</td>\n",
       "    </tr>\n",
       "    <tr>\n",
       "      <th>840</th>\n",
       "      <td>407698.92</td>\n",
       "      <td>377500.00</td>\n",
       "    </tr>\n",
       "    <tr>\n",
       "      <th>2556</th>\n",
       "      <td>314868.44</td>\n",
       "      <td>375000.00</td>\n",
       "    </tr>\n",
       "    <tr>\n",
       "      <th>1473</th>\n",
       "      <td>444019.86</td>\n",
       "      <td>590000.00</td>\n",
       "    </tr>\n",
       "    <tr>\n",
       "      <th>4179</th>\n",
       "      <td>521944.16</td>\n",
       "      <td>569000.00</td>\n",
       "    </tr>\n",
       "    <tr>\n",
       "      <th>4045</th>\n",
       "      <td>362747.89</td>\n",
       "      <td>230000.00</td>\n",
       "    </tr>\n",
       "    <tr>\n",
       "      <th>...</th>\n",
       "      <td>...</td>\n",
       "      <td>...</td>\n",
       "    </tr>\n",
       "    <tr>\n",
       "      <th>48</th>\n",
       "      <td>424169.41</td>\n",
       "      <td>445700.00</td>\n",
       "    </tr>\n",
       "    <tr>\n",
       "      <th>4095</th>\n",
       "      <td>328300.13</td>\n",
       "      <td>235000.00</td>\n",
       "    </tr>\n",
       "    <tr>\n",
       "      <th>3548</th>\n",
       "      <td>404243.07</td>\n",
       "      <td>279000.00</td>\n",
       "    </tr>\n",
       "    <tr>\n",
       "      <th>4078</th>\n",
       "      <td>728846.98</td>\n",
       "      <td>789900.00</td>\n",
       "    </tr>\n",
       "    <tr>\n",
       "      <th>4359</th>\n",
       "      <td>684549.90</td>\n",
       "      <td>439333.33</td>\n",
       "    </tr>\n",
       "    <tr>\n",
       "      <th>2445</th>\n",
       "      <td>313804.59</td>\n",
       "      <td>230000.00</td>\n",
       "    </tr>\n",
       "    <tr>\n",
       "      <th>3495</th>\n",
       "      <td>714490.55</td>\n",
       "      <td>900000.00</td>\n",
       "    </tr>\n",
       "    <tr>\n",
       "      <th>3190</th>\n",
       "      <td>350257.78</td>\n",
       "      <td>225000.00</td>\n",
       "    </tr>\n",
       "    <tr>\n",
       "      <th>3342</th>\n",
       "      <td>281998.98</td>\n",
       "      <td>283000.00</td>\n",
       "    </tr>\n",
       "    <tr>\n",
       "      <th>1239</th>\n",
       "      <td>876762.54</td>\n",
       "      <td>1050000.00</td>\n",
       "    </tr>\n",
       "    <tr>\n",
       "      <th>1071</th>\n",
       "      <td>522811.79</td>\n",
       "      <td>368250.00</td>\n",
       "    </tr>\n",
       "    <tr>\n",
       "      <th>2254</th>\n",
       "      <td>624224.57</td>\n",
       "      <td>700000.00</td>\n",
       "    </tr>\n",
       "    <tr>\n",
       "      <th>1255</th>\n",
       "      <td>465492.82</td>\n",
       "      <td>275000.00</td>\n",
       "    </tr>\n",
       "    <tr>\n",
       "      <th>4365</th>\n",
       "      <td>434227.92</td>\n",
       "      <td>444845.00</td>\n",
       "    </tr>\n",
       "    <tr>\n",
       "      <th>1117</th>\n",
       "      <td>431067.03</td>\n",
       "      <td>318989.00</td>\n",
       "    </tr>\n",
       "    <tr>\n",
       "      <th>3777</th>\n",
       "      <td>478712.23</td>\n",
       "      <td>725000.00</td>\n",
       "    </tr>\n",
       "    <tr>\n",
       "      <th>2044</th>\n",
       "      <td>459565.85</td>\n",
       "      <td>185000.00</td>\n",
       "    </tr>\n",
       "    <tr>\n",
       "      <th>1760</th>\n",
       "      <td>424217.86</td>\n",
       "      <td>474900.00</td>\n",
       "    </tr>\n",
       "    <tr>\n",
       "      <th>2674</th>\n",
       "      <td>383516.64</td>\n",
       "      <td>198000.00</td>\n",
       "    </tr>\n",
       "    <tr>\n",
       "      <th>1114</th>\n",
       "      <td>569213.86</td>\n",
       "      <td>285000.00</td>\n",
       "    </tr>\n",
       "    <tr>\n",
       "      <th>1862</th>\n",
       "      <td>404149.29</td>\n",
       "      <td>289950.00</td>\n",
       "    </tr>\n",
       "    <tr>\n",
       "      <th>3461</th>\n",
       "      <td>395716.81</td>\n",
       "      <td>580000.00</td>\n",
       "    </tr>\n",
       "    <tr>\n",
       "      <th>1187</th>\n",
       "      <td>666751.52</td>\n",
       "      <td>635700.00</td>\n",
       "    </tr>\n",
       "    <tr>\n",
       "      <th>2258</th>\n",
       "      <td>427522.43</td>\n",
       "      <td>680000.00</td>\n",
       "    </tr>\n",
       "    <tr>\n",
       "      <th>2450</th>\n",
       "      <td>472565.77</td>\n",
       "      <td>810000.00</td>\n",
       "    </tr>\n",
       "    <tr>\n",
       "      <th>1816</th>\n",
       "      <td>634605.28</td>\n",
       "      <td>285000.00</td>\n",
       "    </tr>\n",
       "    <tr>\n",
       "      <th>3987</th>\n",
       "      <td>577095.98</td>\n",
       "      <td>527000.00</td>\n",
       "    </tr>\n",
       "    <tr>\n",
       "      <th>3994</th>\n",
       "      <td>518961.77</td>\n",
       "      <td>320000.00</td>\n",
       "    </tr>\n",
       "    <tr>\n",
       "      <th>4048</th>\n",
       "      <td>688705.22</td>\n",
       "      <td>900000.00</td>\n",
       "    </tr>\n",
       "    <tr>\n",
       "      <th>385</th>\n",
       "      <td>548581.65</td>\n",
       "      <td>494000.00</td>\n",
       "    </tr>\n",
       "  </tbody>\n",
       "</table>\n",
       "<p>872 rows × 2 columns</p>\n",
       "</div>"
      ],
      "text/plain": [
       "             a          b\n",
       "4373 421119.83  346750.00\n",
       "4570 426518.96  318000.00\n",
       "4008 584421.90  645000.00\n",
       "4019 605660.57  821000.00\n",
       "3946 702403.56 1150000.00\n",
       "1741 372716.57  850000.00\n",
       "4318 356293.54  342500.00\n",
       "588  291255.97   90000.00\n",
       "3010 590457.66  339990.00\n",
       "3154 443891.62  285000.00\n",
       "4124 417555.86  375000.00\n",
       "4115 574758.20  585000.00\n",
       "1979 312193.97  356000.00\n",
       "4486 341185.06  229629.50\n",
       "377  362529.77  230000.00\n",
       "93   549631.76  770000.00\n",
       "796  464872.04  248000.00\n",
       "918  425956.72  442500.00\n",
       "3722 441539.82  478000.00\n",
       "1038 581200.67  515000.00\n",
       "3170 529391.10  687500.00\n",
       "1875 483317.01  453500.00\n",
       "3472 471053.97  800000.00\n",
       "764  336759.91  839000.00\n",
       "2914 573147.59  605000.00\n",
       "840  407698.92  377500.00\n",
       "2556 314868.44  375000.00\n",
       "1473 444019.86  590000.00\n",
       "4179 521944.16  569000.00\n",
       "4045 362747.89  230000.00\n",
       "...        ...        ...\n",
       "48   424169.41  445700.00\n",
       "4095 328300.13  235000.00\n",
       "3548 404243.07  279000.00\n",
       "4078 728846.98  789900.00\n",
       "4359 684549.90  439333.33\n",
       "2445 313804.59  230000.00\n",
       "3495 714490.55  900000.00\n",
       "3190 350257.78  225000.00\n",
       "3342 281998.98  283000.00\n",
       "1239 876762.54 1050000.00\n",
       "1071 522811.79  368250.00\n",
       "2254 624224.57  700000.00\n",
       "1255 465492.82  275000.00\n",
       "4365 434227.92  444845.00\n",
       "1117 431067.03  318989.00\n",
       "3777 478712.23  725000.00\n",
       "2044 459565.85  185000.00\n",
       "1760 424217.86  474900.00\n",
       "2674 383516.64  198000.00\n",
       "1114 569213.86  285000.00\n",
       "1862 404149.29  289950.00\n",
       "3461 395716.81  580000.00\n",
       "1187 666751.52  635700.00\n",
       "2258 427522.43  680000.00\n",
       "2450 472565.77  810000.00\n",
       "1816 634605.28  285000.00\n",
       "3987 577095.98  527000.00\n",
       "3994 518961.77  320000.00\n",
       "4048 688705.22  900000.00\n",
       "385  548581.65  494000.00\n",
       "\n",
       "[872 rows x 2 columns]"
      ]
     },
     "execution_count": 152,
     "metadata": {},
     "output_type": "execute_result"
    }
   ],
   "source": [
    "pd.DataFrame({'a':(model.predict(X_test)).reshape(1,872)[0],\n",
    "             'b':y_test})"
   ]
  },
  {
   "cell_type": "code",
   "execution_count": 153,
   "metadata": {
    "ExecuteTime": {
     "end_time": "2019-10-27T01:02:41.156234Z",
     "start_time": "2019-10-27T01:02:41.141256Z"
    }
   },
   "outputs": [
    {
     "data": {
      "text/html": [
       "<div>\n",
       "<style scoped>\n",
       "    .dataframe tbody tr th:only-of-type {\n",
       "        vertical-align: middle;\n",
       "    }\n",
       "\n",
       "    .dataframe tbody tr th {\n",
       "        vertical-align: top;\n",
       "    }\n",
       "\n",
       "    .dataframe thead th {\n",
       "        text-align: right;\n",
       "    }\n",
       "</style>\n",
       "<table border=\"1\" class=\"dataframe\">\n",
       "  <thead>\n",
       "    <tr style=\"text-align: right;\">\n",
       "      <th></th>\n",
       "      <th>bedrooms</th>\n",
       "      <th>floors</th>\n",
       "      <th>bathrooms</th>\n",
       "      <th>sqft_above</th>\n",
       "      <th>sqft_living</th>\n",
       "      <th>price</th>\n",
       "    </tr>\n",
       "  </thead>\n",
       "  <tbody>\n",
       "    <tr>\n",
       "      <th>0</th>\n",
       "      <td>3.00</td>\n",
       "      <td>1.50</td>\n",
       "      <td>1.50</td>\n",
       "      <td>1340</td>\n",
       "      <td>1340</td>\n",
       "      <td>313000.00</td>\n",
       "    </tr>\n",
       "    <tr>\n",
       "      <th>2</th>\n",
       "      <td>3.00</td>\n",
       "      <td>1.00</td>\n",
       "      <td>2.00</td>\n",
       "      <td>1930</td>\n",
       "      <td>1930</td>\n",
       "      <td>342000.00</td>\n",
       "    </tr>\n",
       "    <tr>\n",
       "      <th>3</th>\n",
       "      <td>3.00</td>\n",
       "      <td>1.00</td>\n",
       "      <td>2.25</td>\n",
       "      <td>1000</td>\n",
       "      <td>2000</td>\n",
       "      <td>420000.00</td>\n",
       "    </tr>\n",
       "    <tr>\n",
       "      <th>4</th>\n",
       "      <td>4.00</td>\n",
       "      <td>1.00</td>\n",
       "      <td>2.50</td>\n",
       "      <td>1140</td>\n",
       "      <td>1940</td>\n",
       "      <td>550000.00</td>\n",
       "    </tr>\n",
       "    <tr>\n",
       "      <th>5</th>\n",
       "      <td>2.00</td>\n",
       "      <td>1.00</td>\n",
       "      <td>1.00</td>\n",
       "      <td>880</td>\n",
       "      <td>880</td>\n",
       "      <td>490000.00</td>\n",
       "    </tr>\n",
       "  </tbody>\n",
       "</table>\n",
       "</div>"
      ],
      "text/plain": [
       "   bedrooms  floors  bathrooms  sqft_above  sqft_living     price\n",
       "0      3.00    1.50       1.50        1340         1340 313000.00\n",
       "2      3.00    1.00       2.00        1930         1930 342000.00\n",
       "3      3.00    1.00       2.25        1000         2000 420000.00\n",
       "4      4.00    1.00       2.50        1140         1940 550000.00\n",
       "5      2.00    1.00       1.00         880          880 490000.00"
      ]
     },
     "execution_count": 153,
     "metadata": {},
     "output_type": "execute_result"
    }
   ],
   "source": [
    "data_model.head()"
   ]
  },
  {
   "cell_type": "code",
   "execution_count": 154,
   "metadata": {
    "ExecuteTime": {
     "end_time": "2019-10-27T01:02:43.023693Z",
     "start_time": "2019-10-27T01:02:41.661371Z"
    }
   },
   "outputs": [
    {
     "data": {
      "image/png": "[encoded data removed]",
      "text/plain": [
       "<Figure size 360x360 with 1 Axes>"
      ]
     },
     "metadata": {
      "needs_background": "light"
     },
     "output_type": "display_data"
    }
   ],
   "source": [
    "ax = sns.lmplot(x='sqft_living', y='price', data=data_model, ci=95)"
   ]
  },
  {
   "cell_type": "code",
   "execution_count": 39,
   "metadata": {
    "ExecuteTime": {
     "end_time": "2019-10-26T22:22:16.118833Z",
     "start_time": "2019-10-26T22:22:16.072955Z"
    }
   },
   "outputs": [
    {
     "data": {
      "text/plain": [
       "array([[ 604664.96763323],\n",
       "       [ 706124.76725941],\n",
       "       [ 323114.02367058],\n",
       "       [ 698515.28228744],\n",
       "       [ 541252.59286687],\n",
       "       [ 617347.4425865 ],\n",
       "       [ 285066.59881077],\n",
       "       [ 416964.3383248 ],\n",
       "       [ 482913.20808181],\n",
       "       [ 310431.54871731],\n",
       "       [ 520960.63294163],\n",
       "       [ 381453.40845564],\n",
       "       [ 363697.94352106],\n",
       "       [ 820267.04183886],\n",
       "       [ 183606.79918459],\n",
       "       [ 607201.46262388],\n",
       "       [ 675686.82737155],\n",
       "       [ 508278.15798836],\n",
       "       [ 419500.83331545],\n",
       "       [ 538716.09787621],\n",
       "       [ 542520.84036219],\n",
       "       [ 480376.71309116],\n",
       "       [ 673150.3323809 ],\n",
       "       [ 345942.47858647],\n",
       "       [ 706124.76725941],\n",
       "       [ 371307.42849302],\n",
       "       [ 262238.14389488],\n",
       "       [ 287603.09380142],\n",
       "       [ 630029.91753977],\n",
       "       [ 553935.06782014],\n",
       "       [ 389062.8934276 ],\n",
       "       [ 683296.31234352],\n",
       "       [ 279993.60882946],\n",
       "       [ 343405.98359582],\n",
       "       [ 586909.50269865],\n",
       "       [ 442329.28823134],\n",
       "       [ 239409.68897899],\n",
       "       [ 411891.34834349],\n",
       "       [ 723880.23219399],\n",
       "       [ 241946.18396964],\n",
       "       [ 939482.30639962],\n",
       "       [ 394135.88340891],\n",
       "       [ 594518.98767061],\n",
       "       [ 556471.56281079],\n",
       "       [ 547593.8303435 ],\n",
       "       [ 612274.45260519],\n",
       "       [ 518424.13795098],\n",
       "       [ 812657.55686689],\n",
       "       [ 434719.80325938],\n",
       "       [ 723880.23219399],\n",
       "       [ 909044.36651176],\n",
       "       [ 665540.84740894],\n",
       "       [ 493059.18804443],\n",
       "       [ 328187.01365189],\n",
       "       [ 513351.14796967],\n",
       "       [ 652858.37245566],\n",
       "       [ 383989.90344629],\n",
       "       [ 259701.64890422],\n",
       "       [ 409354.85335284],\n",
       "       [ 614810.94759585],\n",
       "       [ 373843.92348367],\n",
       "       [ 518424.13795098],\n",
       "       [ 429646.81327807],\n",
       "       [ 703588.27226875],\n",
       "       [ 320577.52867993],\n",
       "       [ 373843.92348367],\n",
       "       [ 335796.49862386],\n",
       "       [ 490522.69305378],\n",
       "       [ 432183.30826873],\n",
       "       [ 690905.79731548],\n",
       "       [ 472767.2281192 ],\n",
       "       [ 254628.65892291],\n",
       "       [ 640175.89750239],\n",
       "       [ 305358.558736  ],\n",
       "       [ 604664.96763323],\n",
       "       [ 399208.87339022],\n",
       "       [ 333260.0036332 ],\n",
       "       [ 723372.93319586],\n",
       "       [ 460084.75316592],\n",
       "       [ 690905.79731548],\n",
       "       [ 219117.72905375],\n",
       "       [ 305358.558736  ],\n",
       "       [ 439792.79324069],\n",
       "       [ 680759.81735286],\n",
       "       [ 566617.54277341],\n",
       "       [ 675686.82737155],\n",
       "       [ 921726.84146503],\n",
       "       [ 292676.08378273],\n",
       "       [ 371307.42849302],\n",
       "       [ 726416.72718464],\n",
       "       [ 449938.77320331],\n",
       "       [ 305358.558736  ],\n",
       "       [ 368770.93350236],\n",
       "       [1063770.56094168],\n",
       "       [ 741635.69712857],\n",
       "       [ 318041.03368928],\n",
       "       [ 378916.91346498],\n",
       "       [ 635102.90752108],\n",
       "       [ 477840.21810051],\n",
       "       [ 371307.42849302],\n",
       "       [ 495595.68303509],\n",
       "       [ 548862.07783883],\n",
       "       [ 211508.24408179],\n",
       "       [ 414427.84333414],\n",
       "       [ 391599.38841825],\n",
       "       [ 523497.12793229],\n",
       "       [1553314.09413799],\n",
       "       [ 533643.1078949 ],\n",
       "       [ 257165.15391357],\n",
       "       [ 751781.67709119],\n",
       "       [ 794902.09193231],\n",
       "       [ 551398.57282948],\n",
       "       [ 860850.96168933],\n",
       "       [ 541252.59286687],\n",
       "       [ 607201.46262388],\n",
       "       [ 663004.35241828],\n",
       "       [ 320577.52867993],\n",
       "       [ 657931.36243697],\n",
       "       [ 546325.58284818],\n",
       "       [ 896361.89155849],\n",
       "       [ 536179.60288556],\n",
       "       [ 389062.8934276 ],\n",
       "       [ 335796.49862386],\n",
       "       [ 508278.15798836],\n",
       "       [ 942018.80139027],\n",
       "       [ 272384.1238575 ],\n",
       "       [ 292676.08378273],\n",
       "       [ 695978.78729679],\n",
       "       [ 561544.5527921 ],\n",
       "       [ 409354.85335284],\n",
       "       [ 769537.14202577],\n",
       "       [ 461353.00066125],\n",
       "       [ 274920.61884815],\n",
       "       [ 437256.29825003],\n",
       "       [ 873533.4366426 ],\n",
       "       [ 863387.45667998],\n",
       "       [ 815194.05185755],\n",
       "       [ 449938.77320331],\n",
       "       [ 320577.52867993],\n",
       "       [ 487986.19806312],\n",
       "       [1421416.35462396],\n",
       "       [ 203898.75910983],\n",
       "       [1085330.76836225],\n",
       "       [ 465157.74314723],\n",
       "       [ 693442.29230613],\n",
       "       [ 523497.12793229],\n",
       "       [ 475303.72310985],\n",
       "       [ 751781.67709119],\n",
       "       [ 777146.62699773],\n",
       "       [ 617347.4425865 ],\n",
       "       [ 817730.5468482 ],\n",
       "       [ 358624.95353975],\n",
       "       [ 470230.73312854],\n",
       "       [ 422037.32830611],\n",
       "       [ 925531.58395102],\n",
       "       [ 660467.85742763],\n",
       "       [ 576763.52273603],\n",
       "       [ 581836.51271734],\n",
       "       [ 627493.42254912],\n",
       "       [ 541252.59286687],\n",
       "       [ 434719.80325938],\n",
       "       [ 985392.86573046],\n",
       "       [ 367756.3355061 ],\n",
       "       [ 282530.10382011],\n",
       "       [ 508278.15798836],\n",
       "       [ 409354.85335284],\n",
       "       [ 566617.54277341],\n",
       "       [ 734026.21215661],\n",
       "       [ 449938.77320331],\n",
       "       [ 632566.41253043],\n",
       "       [ 660467.85742763],\n",
       "       [ 520960.63294163],\n",
       "       [ 695978.78729679],\n",
       "       [ 680759.81735286],\n",
       "       [ 401745.36838087],\n",
       "       [ 718807.24221268],\n",
       "       [ 825340.03182017],\n",
       "       [ 822803.53682951],\n",
       "       [ 579300.01772668],\n",
       "       [ 508278.15798836],\n",
       "       [ 391599.38841825],\n",
       "       [ 774863.78150614],\n",
       "       [ 386526.39843695],\n",
       "       [ 221654.22404441],\n",
       "       [ 797438.58692297],\n",
       "       [ 711197.75724072],\n",
       "       [ 739099.20213791],\n",
       "       [ 858314.46669867],\n",
       "       [ 690905.79731548],\n",
       "       [ 652858.37245566],\n",
       "       [ 381453.40845564],\n",
       "       [ 602128.47264257],\n",
       "       [ 449938.77320331],\n",
       "       [ 181070.30419394],\n",
       "       [ 493059.18804443],\n",
       "       [ 373843.92348367],\n",
       "       [ 878606.42662391],\n",
       "       [ 351015.46856778],\n",
       "       [ 455011.76318462],\n",
       "       [ 591982.49267996],\n",
       "       [ 424573.82329676],\n",
       "       [ 695978.78729679],\n",
       "       [ 858314.46669867],\n",
       "       [ 690905.79731548],\n",
       "       [ 538716.09787621],\n",
       "       [ 893825.39656784],\n",
       "       [ 419500.83331545],\n",
       "       [ 353551.96355844],\n",
       "       [ 262238.14389488],\n",
       "       [ 302822.06374535],\n",
       "       [ 244482.6789603 ],\n",
       "       [ 739099.20213791],\n",
       "       [ 594518.98767061],\n",
       "       [ 145559.37432477],\n",
       "       [ 404281.86337153],\n",
       "       [ 244482.6789603 ],\n",
       "       [ 657931.36243697],\n",
       "       [ 787292.60696035],\n",
       "       [ 437256.29825003],\n",
       "       [ 645248.8874837 ],\n",
       "       [ 635102.90752108],\n",
       "       [ 439792.79324069],\n",
       "       [ 794902.09193231],\n",
       "       [ 323114.02367058],\n",
       "       [ 541252.59286687],\n",
       "       [ 191216.28415655],\n",
       "       [ 495595.68303509],\n",
       "       [ 548862.07783883],\n",
       "       [ 361161.4485304 ],\n",
       "       [ 475303.72310985],\n",
       "       [ 380185.16096031],\n",
       "       [ 515887.64296032],\n",
       "       [ 551398.57282948],\n",
       "       [ 328187.01365189],\n",
       "       [ 698515.28228744],\n",
       "       [ 424573.82329676],\n",
       "       [ 541252.59286687],\n",
       "       [ 949628.28636223],\n",
       "       [ 612274.45260519],\n",
       "       [ 855777.97170802],\n",
       "       [ 462621.24815658],\n",
       "       [ 290139.58879208],\n",
       "       [ 528570.11791359],\n",
       "       [ 622420.43256781],\n",
       "       [ 566617.54277341],\n",
       "       [ 774610.13200708],\n",
       "       [ 566617.54277341],\n",
       "       [ 487986.19806312],\n",
       "       [ 241946.18396964],\n",
       "       [ 789829.101951  ],\n",
       "       [ 500668.6730164 ],\n",
       "       [ 277457.1138388 ],\n",
       "       [ 272384.1238575 ],\n",
       "       [ 368770.93350236],\n",
       "       [1101817.9858015 ],\n",
       "       [1056161.07596972],\n",
       "       [ 756854.6670725 ],\n",
       "       [ 371307.42849302],\n",
       "       [ 485449.70307247],\n",
       "       [ 310431.54871731],\n",
       "       [ 646517.13497903],\n",
       "       [ 523497.12793229],\n",
       "       [ 630029.91753977],\n",
       "       [ 475303.72310985],\n",
       "       [ 455011.76318462],\n",
       "       [ 318041.03368928],\n",
       "       [ 312968.04370797],\n",
       "       [ 619883.93757716],\n",
       "       [ 414427.84333414],\n",
       "       [ 574227.02774537],\n",
       "       [ 728953.2221753 ],\n",
       "       [ 526033.62292294],\n",
       "       [ 371307.42849302],\n",
       "       [ 236873.19398833],\n",
       "       [ 404281.86337153],\n",
       "       [ 777146.62699773],\n",
       "       [ 249555.66894161],\n",
       "       [ 574227.02774537],\n",
       "       [ 416964.3383248 ],\n",
       "       [ 723880.23219399],\n",
       "       [ 274920.61884815],\n",
       "       [ 279993.60882946],\n",
       "       [ 997821.69118467],\n",
       "       [ 597055.48266127],\n",
       "       [ 279993.60882946],\n",
       "       [ 345942.47858647],\n",
       "       [ 734026.21215661],\n",
       "       [ 944555.29638092],\n",
       "       [ 406818.35836218],\n",
       "       [ 650321.87746501],\n",
       "       [ 297749.07376404],\n",
       "       [ 878606.42662391],\n",
       "       [ 239409.68897899],\n",
       "       [ 802511.57690428],\n",
       "       [ 548862.07783883],\n",
       "       [ 442329.28823134],\n",
       "       [1117036.95574543],\n",
       "       [ 586909.50269865],\n",
       "       [ 520960.63294163],\n",
       "       [ 792365.59694166],\n",
       "       [ 604664.96763323],\n",
       "       [ 731489.71716595],\n",
       "       [ 642712.39249305],\n",
       "       [ 328187.01365189],\n",
       "       [ 290139.58879208],\n",
       "       [ 599591.97765192],\n",
       "       [ 840559.00176409],\n",
       "       [ 556471.56281079],\n",
       "       [ 630029.91753977],\n",
       "       [ 482913.20808181],\n",
       "       [ 318041.03368928],\n",
       "       [ 627493.42254912],\n",
       "       [ 728953.2221753 ],\n",
       "       [ 424573.82329676],\n",
       "       [ 784756.11196969],\n",
       "       [ 487986.19806312],\n",
       "       [1066307.05593234],\n",
       "       [ 584373.00770799],\n",
       "       [ 269847.62886684],\n",
       "       [ 409354.85335284],\n",
       "       [ 698515.28228744],\n",
       "       [ 312968.04370797],\n",
       "       [ 764464.15204446],\n",
       "       [ 515887.64296032],\n",
       "       [ 838022.50677344],\n",
       "       [ 475303.72310985],\n",
       "       [ 394135.88340891],\n",
       "       [ 548862.07783883],\n",
       "       [ 447402.27821265],\n",
       "       [ 523497.12793229],\n",
       "       [ 723880.23219399],\n",
       "       [1099281.49081085],\n",
       "       [ 931872.82142765],\n",
       "       [ 635102.90752108],\n",
       "       [ 380185.16096031],\n",
       "       [ 698515.28228744],\n",
       "       [ 221654.22404441],\n",
       "       [ 310431.54871731],\n",
       "       [ 541252.59286687],\n",
       "       [ 371307.42849302],\n",
       "       [ 356088.45854909],\n",
       "       [ 637639.40251174],\n",
       "       [ 805048.07189493],\n",
       "       [ 318041.03368928],\n",
       "       [ 739099.20213791],\n",
       "       [ 708661.26225006],\n",
       "       [1520339.65925948],\n",
       "       [ 437256.29825003],\n",
       "       [ 373843.92348367],\n",
       "       [ 503205.16800705],\n",
       "       [ 665540.84740894],\n",
       "       [ 693442.29230613],\n",
       "       [ 693442.29230613],\n",
       "       [1030796.12606318],\n",
       "       [ 305358.558736  ],\n",
       "       [ 416964.3383248 ],\n",
       "       [ 419500.83331545],\n",
       "       [ 546325.58284818],\n",
       "       [ 660467.85742763],\n",
       "       [ 391599.38841825],\n",
       "       [ 269847.62886684],\n",
       "       [1188058.81548375],\n",
       "       [ 685832.80733417],\n",
       "       [ 234336.69899768],\n",
       "       [ 470230.73312854],\n",
       "       [ 416964.3383248 ],\n",
       "       [ 226727.21402572],\n",
       "       [ 536179.60288556],\n",
       "       [ 292676.08378273],\n",
       "       [ 414427.84333414],\n",
       "       [ 394135.88340891],\n",
       "       [ 533643.1078949 ],\n",
       "       [ 424573.82329676],\n",
       "       [ 663004.35241828],\n",
       "       [ 551398.57282948],\n",
       "       [ 865923.95167064],\n",
       "       [ 310431.54871731],\n",
       "       [ 378916.91346498],\n",
       "       [ 589445.9976893 ],\n",
       "       [ 721343.73720333],\n",
       "       [ 490522.69305378],\n",
       "       [ 462621.24815658],\n",
       "       [ 896361.89155849],\n",
       "       [ 533643.1078949 ],\n",
       "       [ 439792.79324069],\n",
       "       [ 513351.14796967],\n",
       "       [ 389062.8934276 ],\n",
       "       [1043478.60101645],\n",
       "       [ 599591.97765192],\n",
       "       [ 274920.61884815],\n",
       "       [ 254628.65892291],\n",
       "       [ 368770.93350236],\n",
       "       [ 566617.54277341],\n",
       "       [ 640175.89750239],\n",
       "       [ 510814.65297901],\n",
       "       [ 399208.87339022],\n",
       "       [ 678223.32236221],\n",
       "       [ 343405.98359582],\n",
       "       [1479755.73940901],\n",
       "       [ 728953.2221753 ],\n",
       "       [ 389062.8934276 ],\n",
       "       [ 594518.98767061],\n",
       "       [ 515887.64296032],\n",
       "       [ 759391.16206315],\n",
       "       [ 551398.57282948],\n",
       "       [ 990212.2062127 ],\n",
       "       [ 323114.02367058],\n",
       "       [ 660467.85742763],\n",
       "       [ 404281.86337153],\n",
       "       [ 368770.93350236],\n",
       "       [ 434719.80325938],\n",
       "       [ 797438.58692297],\n",
       "       [ 515887.64296032],\n",
       "       [ 267311.13387619],\n",
       "       [ 632566.41253043],\n",
       "       [ 432183.30826873],\n",
       "       [ 916653.85148373],\n",
       "       [ 368770.93350236],\n",
       "       [ 490522.69305378],\n",
       "       [ 310431.54871731],\n",
       "       [ 386526.39843695],\n",
       "       [ 685832.80733417],\n",
       "       [ 607455.11212295],\n",
       "       [ 282530.10382011],\n",
       "       [ 675686.82737155],\n",
       "       [1170303.35054917],\n",
       "       [ 432183.30826873],\n",
       "       [ 358624.95353975],\n",
       "       [ 642712.39249305],\n",
       "       [ 318041.03368928],\n",
       "       [ 838022.50677344],\n",
       "       [ 490522.69305378],\n",
       "       [ 607201.46262388],\n",
       "       [ 635102.90752108],\n",
       "       [ 498132.17802574],\n",
       "       [1114500.46075477],\n",
       "       [ 376380.41847433],\n",
       "       [ 820267.04183886],\n",
       "       [ 264774.63888553],\n",
       "       [ 513351.14796967],\n",
       "       [ 401745.36838087],\n",
       "       [ 328187.01365189],\n",
       "       [ 371307.42849302],\n",
       "       [ 315504.53869862],\n",
       "       [ 906507.87152111],\n",
       "       [ 746708.68710988],\n",
       "       [ 226727.21402572],\n",
       "       [ 460084.75316592],\n",
       "       [ 510814.65297901],\n",
       "       [ 685832.80733417],\n",
       "       [ 429646.81327807],\n",
       "       [ 193752.77914721],\n",
       "       [ 465157.74314723],\n",
       "       [ 447402.27821265],\n",
       "       [ 231800.20400702],\n",
       "       [ 429646.81327807],\n",
       "       [ 356088.45854909],\n",
       "       [ 607201.46262388],\n",
       "       [ 790843.69994726],\n",
       "       [ 789829.101951  ],\n",
       "       [ 536179.60288556],\n",
       "       [ 290139.58879208],\n",
       "       [1695357.81361464],\n",
       "       [ 546325.58284818],\n",
       "       [ 343405.98359582],\n",
       "       [ 404281.86337153],\n",
       "       [ 701051.7772781 ],\n",
       "       [ 282530.10382011],\n",
       "       [ 480376.71309116],\n",
       "       [ 262745.44289301],\n",
       "       [ 274920.61884815],\n",
       "       [ 439792.79324069],\n",
       "       [ 452475.26819396],\n",
       "       [ 378916.91346498],\n",
       "       [ 414427.84333414],\n",
       "       [ 888752.40658653],\n",
       "       [ 437256.29825003],\n",
       "       [ 782219.61697904],\n",
       "       [ 683296.31234352],\n",
       "       [ 815194.05185755],\n",
       "       [ 817730.5468482 ],\n",
       "       [ 383989.90344629],\n",
       "       [ 249555.66894161],\n",
       "       [ 591982.49267996],\n",
       "       [ 493059.18804443],\n",
       "       [ 510814.65297901],\n",
       "       [1801890.60322213],\n",
       "       [ 297749.07376404],\n",
       "       [ 498132.17802574],\n",
       "       [ 609737.95761454],\n",
       "       [ 632566.41253043],\n",
       "       [ 208971.74909113],\n",
       "       [ 269847.62886684],\n",
       "       [ 429646.81327807],\n",
       "       [ 409354.85335284],\n",
       "       [ 419754.48281452],\n",
       "       [ 520960.63294163],\n",
       "       [ 571690.53275472],\n",
       "       [ 774610.13200708],\n",
       "       [ 358624.95353975],\n",
       "       [ 401745.36838087],\n",
       "       [ 257165.15391357],\n",
       "       [ 214044.73907244],\n",
       "       [ 660467.85742763],\n",
       "       [ 645248.8874837 ],\n",
       "       [ 657931.36243697],\n",
       "       [ 394135.88340891],\n",
       "       [ 290139.58879208],\n",
       "       [ 627493.42254912],\n",
       "       [ 830413.02180147],\n",
       "       [ 569154.03776407],\n",
       "       [ 779683.12198839],\n",
       "       [ 564081.04778276],\n",
       "       [ 807584.56688558],\n",
       "       [ 571690.53275472],\n",
       "       [ 305358.558736  ],\n",
       "       [ 505741.6629977 ],\n",
       "       [1449317.79952116],\n",
       "       [ 493059.18804443],\n",
       "       [ 673150.3323809 ],\n",
       "       [ 528570.11791359],\n",
       "       [ 482913.20808181],\n",
       "       [ 566617.54277341],\n",
       "       [ 170924.32423132],\n",
       "       [ 295212.57877339],\n",
       "       [ 500668.6730164 ],\n",
       "       [ 513351.14796967],\n",
       "       [ 541252.59286687],\n",
       "       [ 526033.62292294],\n",
       "       [ 538716.09787621],\n",
       "       [ 343405.98359582],\n",
       "       [ 231800.20400702],\n",
       "       [ 295212.57877339],\n",
       "       [ 419500.83331545],\n",
       "       [ 597816.43115846],\n",
       "       [ 444865.783222  ],\n",
       "       [ 509292.75598462],\n",
       "       [ 622420.43256781],\n",
       "       [ 455011.76318462],\n",
       "       [1195668.30045572],\n",
       "       [ 371307.42849302],\n",
       "       [ 432183.30826873],\n",
       "       [1094208.50082954],\n",
       "       [ 269847.62886684],\n",
       "       [ 333260.0036332 ],\n",
       "       [ 434719.80325938],\n",
       "       [ 515887.64296032],\n",
       "       [ 562305.5012893 ],\n",
       "       [1122109.94572674],\n",
       "       [ 693442.29230613],\n",
       "       [ 734026.21215661],\n",
       "       [ 536179.60288556],\n",
       "       [ 561544.5527921 ],\n",
       "       [ 660467.85742763],\n",
       "       [ 604664.96763323],\n",
       "       [1144938.40064263],\n",
       "       [ 422037.32830611],\n",
       "       [1500047.69933425],\n",
       "       [ 394135.88340891],\n",
       "       [ 538716.09787621],\n",
       "       [ 690905.79731548],\n",
       "       [ 630029.91753977],\n",
       "       [ 794902.09193231],\n",
       "       [ 366234.43851171],\n",
       "       [ 427110.31828742],\n",
       "       [ 706124.76725941],\n",
       "       [ 495595.68303509],\n",
       "       [ 533643.1078949 ],\n",
       "       [ 394135.88340891],\n",
       "       [ 597055.48266127],\n",
       "       [ 642712.39249305],\n",
       "       [ 987675.71122205],\n",
       "       [ 531106.61290425],\n",
       "       [ 637639.40251174],\n",
       "       [ 351015.46856778],\n",
       "       [ 604664.96763323],\n",
       "       [ 480376.71309116],\n",
       "       [ 792365.59694166],\n",
       "       [ 868460.44666129],\n",
       "       [ 718807.24221268],\n",
       "       [ 439792.79324069],\n",
       "       [ 343405.98359582],\n",
       "       [ 569154.03776407],\n",
       "       [ 163314.83925935],\n",
       "       [ 470230.73312854],\n",
       "       [ 936945.81140896],\n",
       "       [ 498132.17802574],\n",
       "       [ 396672.37839956],\n",
       "       [ 792365.59694166],\n",
       "       [1467073.26445574],\n",
       "       [ 711197.75724072],\n",
       "       [ 427110.31828742],\n",
       "       [ 363697.94352106],\n",
       "       [ 508278.15798836],\n",
       "       [ 769537.14202577],\n",
       "       [ 561544.5527921 ],\n",
       "       [ 442329.28823134],\n",
       "       [ 495595.68303509],\n",
       "       [ 432183.30826873],\n",
       "       [ 655394.86744632],\n",
       "       [1015577.15611925],\n",
       "       [ 236873.19398833],\n",
       "       [ 348478.97357713],\n",
       "       [ 673150.3323809 ],\n",
       "       [ 693442.29230613],\n",
       "       [1002894.68116598],\n",
       "       [ 685832.80733417],\n",
       "       [ 307895.05372666],\n",
       "       [ 571690.53275472],\n",
       "       [1025723.13608187],\n",
       "       [ 371307.42849302],\n",
       "       [ 548862.07783883],\n",
       "       [ 444865.783222  ],\n",
       "       [ 373843.92348367],\n",
       "       [ 343405.98359582],\n",
       "       [ 515887.64296032],\n",
       "       [ 434719.80325938],\n",
       "       [ 307895.05372666],\n",
       "       [ 812657.55686689],\n",
       "       [ 657931.36243697],\n",
       "       [ 356088.45854909],\n",
       "       [ 637639.40251174],\n",
       "       [ 107511.94946496],\n",
       "       [ 914117.35649307],\n",
       "       [ 701051.7772781 ],\n",
       "       [ 333260.0036332 ],\n",
       "       [ 599591.97765192],\n",
       "       [ 564081.04778276],\n",
       "       [ 338332.99361451],\n",
       "       [ 802511.57690428],\n",
       "       [ 944555.29638092],\n",
       "       [ 348478.97357713],\n",
       "       [ 604664.96763323],\n",
       "       [1150011.39062393],\n",
       "       [ 371307.42849302],\n",
       "       [ 307641.40422759],\n",
       "       [ 957237.7713342 ],\n",
       "       [ 685832.80733417],\n",
       "       [ 939482.30639962],\n",
       "       [ 992748.70120336],\n",
       "       [ 848168.48673606],\n",
       "       [ 559008.05780145],\n",
       "       [ 508278.15798836],\n",
       "       [ 870996.94165195],\n",
       "       [ 191216.28415655],\n",
       "       [ 914117.35649307],\n",
       "       [ 371307.42849302],\n",
       "       [ 391599.38841825],\n",
       "       [ 723880.23219399],\n",
       "       [ 597055.48266127],\n",
       "       [ 285066.59881077],\n",
       "       [ 381453.40845564],\n",
       "       [ 624956.92755846],\n",
       "       [ 396672.37839956],\n",
       "       [ 995285.19619401],\n",
       "       [ 485449.70307247],\n",
       "       [ 876069.93163325],\n",
       "       [ 848168.48673606],\n",
       "       [ 257165.15391357],\n",
       "       [ 726416.72718464],\n",
       "       [ 559008.05780145],\n",
       "       [ 571690.53275472],\n",
       "       [ 363697.94352106],\n",
       "       [ 282530.10382011],\n",
       "       [ 719568.19070987],\n",
       "       [ 685832.80733417],\n",
       "       [ 448670.52570798],\n",
       "       [ 599591.97765192],\n",
       "       [ 219117.72905375],\n",
       "       [ 543789.08785752],\n",
       "       [ 579300.01772668],\n",
       "       [ 310431.54871731],\n",
       "       [1096744.99582019],\n",
       "       [ 389062.8934276 ],\n",
       "       [ 277457.1138388 ],\n",
       "       [ 356088.45854909],\n",
       "       [ 576763.52273603],\n",
       "       [ 376380.41847433],\n",
       "       [ 520960.63294163],\n",
       "       [ 574227.02774537],\n",
       "       [ 520960.63294163],\n",
       "       [ 396672.37839956],\n",
       "       [ 279993.60882946],\n",
       "       [ 231800.20400702],\n",
       "       [ 767000.64703511],\n",
       "       [ 437256.29825003],\n",
       "       [ 716270.74722202],\n",
       "       [ 779683.12198839],\n",
       "       [ 566617.54277341],\n",
       "       [ 389062.8934276 ],\n",
       "       [ 835486.01178278],\n",
       "       [ 688369.30232483],\n",
       "       [ 921726.84146503],\n",
       "       [ 485449.70307247],\n",
       "       [1000358.18617532],\n",
       "       [ 665540.84740894],\n",
       "       [ 434212.50426125],\n",
       "       [ 214044.73907244],\n",
       "       [ 805048.07189493],\n",
       "       [ 249555.66894161],\n",
       "       [ 224190.71903506],\n",
       "       [ 546325.58284818],\n",
       "       [ 462621.24815658],\n",
       "       [ 330723.50864255],\n",
       "       [ 236873.19398833],\n",
       "       [ 485449.70307247],\n",
       "       [ 343405.98359582],\n",
       "       [ 244482.6789603 ],\n",
       "       [ 607201.46262388],\n",
       "       [1144938.40064263],\n",
       "       [ 647785.38247435],\n",
       "       [ 411891.34834349],\n",
       "       [ 614810.94759585],\n",
       "       [ 518424.13795098],\n",
       "       [ 832949.51679213],\n",
       "       [ 389062.8934276 ],\n",
       "       [ 328187.01365189],\n",
       "       [ 247019.17395095],\n",
       "       [ 376380.41847433],\n",
       "       [ 500668.6730164 ],\n",
       "       [ 660467.85742763],\n",
       "       [ 244482.6789603 ],\n",
       "       [ 680759.81735286],\n",
       "       [ 249555.66894161],\n",
       "       [ 670613.83739024],\n",
       "       [ 533643.1078949 ],\n",
       "       [ 318041.03368928],\n",
       "       [ 465157.74314723],\n",
       "       [ 665540.84740894],\n",
       "       [ 645248.8874837 ],\n",
       "       [ 581836.51271734],\n",
       "       [ 754318.17208184],\n",
       "       [ 635102.90752108],\n",
       "       [ 297749.07376404],\n",
       "       [ 929336.326437  ],\n",
       "       [1048551.59099776],\n",
       "       [ 663004.35241828],\n",
       "       [ 569154.03776407],\n",
       "       [ 622420.43256781],\n",
       "       [ 480376.71309116],\n",
       "       [ 493059.18804443],\n",
       "       [ 832949.51679213],\n",
       "       [ 482913.20808181],\n",
       "       [ 244482.6789603 ],\n",
       "       [ 414427.84333414],\n",
       "       [ 249555.66894161],\n",
       "       [ 774610.13200708],\n",
       "       [ 356088.45854909],\n",
       "       [ 624956.92755846],\n",
       "       [ 513351.14796967],\n",
       "       [ 264774.63888553],\n",
       "       [1167766.85555852],\n",
       "       [ 419500.83331545],\n",
       "       [ 404281.86337153],\n",
       "       [ 529584.71590986],\n",
       "       [ 553935.06782014],\n",
       "       [ 498132.17802574],\n",
       "       [ 531106.61290425],\n",
       "       [ 389062.8934276 ],\n",
       "       [ 434719.80325938],\n",
       "       [ 473020.87761826],\n",
       "       [ 652858.37245566],\n",
       "       [ 825340.03182017],\n",
       "       [ 518424.13795098],\n",
       "       [ 325650.51866124],\n",
       "       [ 815194.05185755],\n",
       "       [ 485449.70307247],\n",
       "       [ 427110.31828742],\n",
       "       [ 624956.92755846],\n",
       "       [ 262238.14389488],\n",
       "       [ 604664.96763323],\n",
       "       [ 196289.27413786],\n",
       "       [ 756854.6670725 ],\n",
       "       [ 604664.96763323],\n",
       "       [ 739099.20213791],\n",
       "       [ 325650.51866124],\n",
       "       [ 307895.05372666],\n",
       "       [ 475303.72310985],\n",
       "       [ 792365.59694166],\n",
       "       [ 604664.96763323],\n",
       "       [ 401745.36838087],\n",
       "       [ 513351.14796967],\n",
       "       [ 822803.53682951],\n",
       "       [1162693.86557721],\n",
       "       [ 198825.76912852],\n",
       "       [ 378916.91346498],\n",
       "       [ 462367.59865751],\n",
       "       [ 838022.50677344],\n",
       "       [ 434719.80325938],\n",
       "       [ 812657.55686689],\n",
       "       [ 310431.54871731],\n",
       "       [ 452475.26819396],\n",
       "       [ 487986.19806312],\n",
       "       [ 571690.53275472],\n",
       "       [ 295212.57877339],\n",
       "       [ 439792.79324069],\n",
       "       [ 845631.9917454 ],\n",
       "       [ 657931.36243697],\n",
       "       [ 769537.14202577],\n",
       "       [ 305358.558736  ],\n",
       "       [ 198825.76912852],\n",
       "       [ 247019.17395095],\n",
       "       [ 343405.98359582],\n",
       "       [ 348478.97357713],\n",
       "       [ 815194.05185755],\n",
       "       [ 657931.36243697],\n",
       "       [ 876069.93163325],\n",
       "       [ 774610.13200708],\n",
       "       [ 439792.79324069],\n",
       "       [ 409354.85335284],\n",
       "       [ 500668.6730164 ],\n",
       "       [ 498132.17802574],\n",
       "       [1144938.40064263],\n",
       "       [ 373843.92348367],\n",
       "       [ 416964.3383248 ],\n",
       "       [ 597055.48266127],\n",
       "       [ 498132.17802574],\n",
       "       [ 713734.25223137],\n",
       "       [ 376380.41847433],\n",
       "       [ 652858.37245566],\n",
       "       [ 439792.79324069],\n",
       "       [ 378916.91346498],\n",
       "       [ 703588.27226875],\n",
       "       [ 439792.79324069],\n",
       "       [ 604664.96763323],\n",
       "       [ 462367.59865751],\n",
       "       [ 843095.49675475],\n",
       "       [ 366234.43851171],\n",
       "       [ 244482.6789603 ],\n",
       "       [ 579300.01772668],\n",
       "       [ 452475.26819396],\n",
       "       [ 241946.18396964],\n",
       "       [ 404281.86337153],\n",
       "       [ 490522.69305378],\n",
       "       [ 969920.24628747],\n",
       "       [ 493059.18804443],\n",
       "       [ 493059.18804443],\n",
       "       [ 566617.54277341],\n",
       "       [ 429646.81327807],\n",
       "       [ 543789.08785752],\n",
       "       [ 635102.90752108],\n",
       "       [ 716270.74722202],\n",
       "       [ 460084.75316592],\n",
       "       [ 609737.95761454],\n",
       "       [ 543789.08785752],\n",
       "       [ 815194.05185755],\n",
       "       [ 224190.71903506],\n",
       "       [ 378916.91346498],\n",
       "       [ 482913.20808181],\n",
       "       [ 706124.76725941],\n",
       "       [ 764717.80154352],\n",
       "       [ 495595.68303509],\n",
       "       [ 376380.41847433],\n",
       "       [ 191216.28415655],\n",
       "       [ 541252.59286687],\n",
       "       [ 721343.73720333],\n",
       "       [ 424573.82329676],\n",
       "       [ 485449.70307247],\n",
       "       [ 576763.52273603],\n",
       "       [ 351015.46856778],\n",
       "       [ 888752.40658653],\n",
       "       [ 465157.74314723],\n",
       "       [1127182.93570804],\n",
       "       [ 482913.20808181],\n",
       "       [ 477840.21810051],\n",
       "       [ 249555.66894161],\n",
       "       [ 541252.59286687],\n",
       "       [ 416964.3383248 ],\n",
       "       [ 429646.81327807],\n",
       "       [ 782219.61697904],\n",
       "       [ 619883.93757716],\n",
       "       [ 155705.35428739],\n",
       "       [ 616079.19509117],\n",
       "       [ 751781.67709119],\n",
       "       [ 414427.84333414],\n",
       "       [ 363697.94352106],\n",
       "       [ 553935.06782014],\n",
       "       [ 356088.45854909],\n",
       "       [ 510814.65297901],\n",
       "       [ 325650.51866124],\n",
       "       [ 914117.35649307],\n",
       "       [ 683296.31234352],\n",
       "       [ 607201.46262388],\n",
       "       [ 645248.8874837 ],\n",
       "       [ 695978.78729679],\n",
       "       [ 404281.86337153],\n",
       "       [ 366234.43851171],\n",
       "       [ 660467.85742763],\n",
       "       [ 751781.67709119],\n",
       "       [ 406818.35836218],\n",
       "       [ 754318.17208184],\n",
       "       [ 881142.92161456],\n",
       "       [ 825340.03182017],\n",
       "       [ 312968.04370797],\n",
       "       [ 769537.14202577],\n",
       "       [ 178533.80920328],\n",
       "       [ 330723.50864255],\n",
       "       [1124646.44071739],\n",
       "       [ 330723.50864255],\n",
       "       [ 675686.82737155],\n",
       "       [ 584373.00770799],\n",
       "       [ 302822.06374535],\n",
       "       [ 318041.03368928],\n",
       "       [ 460084.75316592],\n",
       "       [ 533643.1078949 ],\n",
       "       [ 421022.73030985],\n",
       "       [ 396672.37839956],\n",
       "       [ 815194.05185755],\n",
       "       [ 381453.40845564],\n",
       "       [ 386526.39843695],\n",
       "       [ 338332.99361451],\n",
       "       [ 985139.2162314 ],\n",
       "       [ 564081.04778276],\n",
       "       [ 627493.42254912],\n",
       "       [ 221654.22404441],\n",
       "       [ 541252.59286687],\n",
       "       [ 455011.76318462],\n",
       "       [ 974993.23626878],\n",
       "       [ 597055.48266127],\n",
       "       [ 427110.31828742]])"
      ]
     },
     "execution_count": 39,
     "metadata": {},
     "output_type": "execute_result"
    }
   ],
   "source": [
    "X = data_model[['sqft_living']]\n",
    "y = data_model[['price']]\n",
    "\n",
    "X_train, X_test, y_train, y_test = train_test_split(X, y, test_size=.2, random_state=1)\n",
    "\n",
    "model = LinearRegression()\n",
    "\n",
    "model.fit(X_train, y_train)\n",
    "\n",
    "model.predict(X_test)"
   ]
  },
  {
   "cell_type": "code",
   "execution_count": 41,
   "metadata": {
    "ExecuteTime": {
     "end_time": "2019-10-26T22:24:03.266263Z",
     "start_time": "2019-10-26T22:24:03.255298Z"
    }
   },
   "outputs": [
    {
     "data": {
      "text/plain": [
       "269625.67935840687"
      ]
     },
     "execution_count": 41,
     "metadata": {},
     "output_type": "execute_result"
    }
   ],
   "source": [
    "from sklearn.metrics import mean_squared_error\n",
    "np.sqrt(mean_squared_error(y_test, model.predict(X_test)))"
   ]
  },
  {
   "cell_type": "code",
   "execution_count": 160,
   "metadata": {
    "ExecuteTime": {
     "end_time": "2019-10-27T01:04:23.452788Z",
     "start_time": "2019-10-27T01:04:23.443726Z"
    }
   },
   "outputs": [],
   "source": [
    "def modelling(floors, bed, bath, sqft_above, sqft_living):\n",
    "    prediction = model.predict([[floors, bed, bath, sqft_above, sqft_living]])\n",
    "    return prediction[0]"
   ]
  },
  {
   "cell_type": "code",
   "execution_count": 161,
   "metadata": {
    "ExecuteTime": {
     "end_time": "2019-10-27T01:04:30.636401Z",
     "start_time": "2019-10-27T01:04:24.665316Z"
    }
   },
   "outputs": [
    {
     "name": "stdout",
     "output_type": "stream",
     "text": [
      "Masukkan jumlah lantai: 2\n",
      "Masukkan jumlah kamar tidur: 2\n",
      "Masukkan jumlah kamar mandi: 5\n",
      "Masukkan luas ruangan atas: 2000\n",
      "Masukkan luas ruangan tamu: 500\n"
     ]
    },
    {
     "data": {
      "text/plain": [
       "233688.21791751985"
      ]
     },
     "execution_count": 161,
     "metadata": {},
     "output_type": "execute_result"
    }
   ],
   "source": [
    "input_floors = float(input((\"Masukkan jumlah lantai: \")))\n",
    "input_bedrooms = float(input((\"Masukkan jumlah kamar tidur: \")))\n",
    "input_bathrooms=float(input((\"Masukkan jumlah kamar mandi: \")))\n",
    "input_sqft_above=float(input((\"Masukkan luas ruangan atas: \")))\n",
    "input_sqft_living=float(input((\"Masukkan luas ruangan tamu: \")))\n",
    "\n",
    "modelling(input_floors, input_bedrooms, input_bathrooms, input_sqft_above, input_sqft_living)"
   ]
  },
  {
   "cell_type": "code",
   "execution_count": null,
   "metadata": {},
   "outputs": [],
   "source": [
    "175399.69519344968\n",
    "233688.21791751985"
   ]
  }
 ],
 "metadata": {
  "kernelspec": {
   "display_name": "Python 3",
   "language": "python",
   "name": "python3"
  },
  "language_info": {
   "codemirror_mode": {
    "name": "ipython",
    "version": 3
   },
   "file_extension": ".py",
   "mimetype": "text/x-python",
   "name": "python",
   "nbconvert_exporter": "python",
   "pygments_lexer": "ipython3",
   "version": "3.7.3"
  },
  "toc": {
   "base_numbering": 1,
   "nav_menu": {},
   "number_sections": true,
   "sideBar": true,
   "skip_h1_title": false,
   "title_cell": "Table of Contents",
   "title_sidebar": "Contents",
   "toc_cell": false,
   "toc_position": {},
   "toc_section_display": true,
   "toc_window_display": false
  },
  "varInspector": {
   "cols": {
    "lenName": 16,
    "lenType": 16,
    "lenVar": 40
   },
   "kernels_config": {
    "python": {
     "delete_cmd_postfix": "",
     "delete_cmd_prefix": "del ",
     "library": "var_list.py",
     "varRefreshCmd": "print(var_dic_list())"
    },
    "r": {
     "delete_cmd_postfix": ") ",
     "delete_cmd_prefix": "rm(",
     "library": "var_list.r",
     "varRefreshCmd": "cat(var_dic_list()) "
    }
   },
   "types_to_exclude": [
    "module",
    "function",
    "builtin_function_or_method",
    "instance",
    "_Feature"
   ],
   "window_display": false
  }
 },
 "nbformat": 4,
 "nbformat_minor": 2
}
