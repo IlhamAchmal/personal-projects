{
 "cells": [
  {
   "cell_type": "code",
   "execution_count": 2,
   "metadata": {
    "ExecuteTime": {
     "end_time": "2019-11-04T05:56:05.432523Z",
     "start_time": "2019-11-04T05:56:05.367568Z"
    }
   },
   "outputs": [
    {
     "data": {
      "text/html": [
       "<div>\n",
       "<style scoped>\n",
       "    .dataframe tbody tr th:only-of-type {\n",
       "        vertical-align: middle;\n",
       "    }\n",
       "\n",
       "    .dataframe tbody tr th {\n",
       "        vertical-align: top;\n",
       "    }\n",
       "\n",
       "    .dataframe thead th {\n",
       "        text-align: right;\n",
       "    }\n",
       "</style>\n",
       "<table border=\"1\" class=\"dataframe\">\n",
       "  <thead>\n",
       "    <tr style=\"text-align: right;\">\n",
       "      <th></th>\n",
       "      <th>Year</th>\n",
       "      <th>Months</th>\n",
       "      <th>Visitor Volume</th>\n",
       "      <th>Convention Attendance</th>\n",
       "      <th>Room Inventory</th>\n",
       "      <th>Midweek Occupancy Percentage</th>\n",
       "      <th>Weekend Occupancy Percentage</th>\n",
       "      <th>Overall Occupancy Percentage</th>\n",
       "      <th>LVCVA Room Tax Collections</th>\n",
       "      <th>En/Deplaned Air Passenger</th>\n",
       "      <th>Clark County Gaming Revenue</th>\n",
       "    </tr>\n",
       "  </thead>\n",
       "  <tbody>\n",
       "    <tr>\n",
       "      <th>0</th>\n",
       "      <td>1970</td>\n",
       "      <td>12</td>\n",
       "      <td>6,787,650</td>\n",
       "      <td>269,129</td>\n",
       "      <td>25,430</td>\n",
       "      <td>NaN</td>\n",
       "      <td>NaN</td>\n",
       "      <td>68.00%</td>\n",
       "      <td>3,751,265</td>\n",
       "      <td>4,086,973</td>\n",
       "      <td>369,286,977</td>\n",
       "    </tr>\n",
       "    <tr>\n",
       "      <th>1</th>\n",
       "      <td>1971</td>\n",
       "      <td>12</td>\n",
       "      <td>7,361,783</td>\n",
       "      <td>312,347</td>\n",
       "      <td>26,044</td>\n",
       "      <td>NaN</td>\n",
       "      <td>NaN</td>\n",
       "      <td>78.30%</td>\n",
       "      <td>4,241,630</td>\n",
       "      <td>4,102,285</td>\n",
       "      <td>399,410,972</td>\n",
       "    </tr>\n",
       "    <tr>\n",
       "      <th>2</th>\n",
       "      <td>1972</td>\n",
       "      <td>12</td>\n",
       "      <td>7,954,748</td>\n",
       "      <td>290,794</td>\n",
       "      <td>26,619</td>\n",
       "      <td>NaN</td>\n",
       "      <td>NaN</td>\n",
       "      <td>81.20%</td>\n",
       "      <td>4,770,716</td>\n",
       "      <td>4,608,764</td>\n",
       "      <td>476,126,720</td>\n",
       "    </tr>\n",
       "    <tr>\n",
       "      <th>3</th>\n",
       "      <td>1973</td>\n",
       "      <td>12</td>\n",
       "      <td>8,474,727</td>\n",
       "      <td>357,248</td>\n",
       "      <td>29,198</td>\n",
       "      <td>NaN</td>\n",
       "      <td>NaN</td>\n",
       "      <td>84.40%</td>\n",
       "      <td>5,556,312</td>\n",
       "      <td>5,397,017</td>\n",
       "      <td>588,221,779</td>\n",
       "    </tr>\n",
       "    <tr>\n",
       "      <th>4</th>\n",
       "      <td>1974</td>\n",
       "      <td>12</td>\n",
       "      <td>8,664,751</td>\n",
       "      <td>311,908</td>\n",
       "      <td>32,826</td>\n",
       "      <td>NaN</td>\n",
       "      <td>NaN</td>\n",
       "      <td>78.70%</td>\n",
       "      <td>6,559,315</td>\n",
       "      <td>5,944,433</td>\n",
       "      <td>684,714,502</td>\n",
       "    </tr>\n",
       "  </tbody>\n",
       "</table>\n",
       "</div>"
      ],
      "text/plain": [
       "   Year  Months Visitor Volume Convention Attendance Room Inventory  \\\n",
       "0  1970      12      6,787,650               269,129         25,430   \n",
       "1  1971      12      7,361,783               312,347         26,044   \n",
       "2  1972      12      7,954,748               290,794         26,619   \n",
       "3  1973      12      8,474,727               357,248         29,198   \n",
       "4  1974      12      8,664,751               311,908         32,826   \n",
       "\n",
       "  Midweek Occupancy Percentage Weekend Occupancy Percentage  \\\n",
       "0                          NaN                          NaN   \n",
       "1                          NaN                          NaN   \n",
       "2                          NaN                          NaN   \n",
       "3                          NaN                          NaN   \n",
       "4                          NaN                          NaN   \n",
       "\n",
       "  Overall Occupancy Percentage LVCVA Room Tax Collections  \\\n",
       "0                       68.00%                  3,751,265   \n",
       "1                       78.30%                  4,241,630   \n",
       "2                       81.20%                  4,770,716   \n",
       "3                       84.40%                  5,556,312   \n",
       "4                       78.70%                  6,559,315   \n",
       "\n",
       "  En/Deplaned Air Passenger Clark County Gaming Revenue  \n",
       "0                 4,086,973                 369,286,977  \n",
       "1                 4,102,285                 399,410,972  \n",
       "2                 4,608,764                 476,126,720  \n",
       "3                 5,397,017                 588,221,779  \n",
       "4                 5,944,433                 684,714,502  "
      ]
     },
     "execution_count": 2,
     "metadata": {},
     "output_type": "execute_result"
    }
   ],
   "source": [
    "import pandas as pd\n",
    "data = pd.read_csv('data/Las Vegas Historic Tourism Stats.csv')\n",
    "data.head()"
   ]
  },
  {
   "cell_type": "code",
   "execution_count": 3,
   "metadata": {
    "ExecuteTime": {
     "end_time": "2019-11-04T05:56:46.570142Z",
     "start_time": "2019-11-04T05:56:46.543214Z"
    }
   },
   "outputs": [
    {
     "name": "stdout",
     "output_type": "stream",
     "text": [
      "<class 'pandas.core.frame.DataFrame'>\n",
      "RangeIndex: 50 entries, 0 to 49\n",
      "Data columns (total 11 columns):\n",
      "Year                            50 non-null int64\n",
      "Months                          50 non-null int64\n",
      "Visitor Volume                  50 non-null object\n",
      "Convention Attendance           50 non-null object\n",
      "Room Inventory                  50 non-null object\n",
      "Midweek Occupancy Percentage    37 non-null object\n",
      "Weekend Occupancy Percentage    37 non-null object\n",
      "Overall Occupancy Percentage    50 non-null object\n",
      "LVCVA Room Tax Collections      49 non-null object\n",
      "En/Deplaned Air Passenger       50 non-null object\n",
      "Clark County Gaming Revenue     50 non-null object\n",
      "dtypes: int64(2), object(9)\n",
      "memory usage: 4.4+ KB\n"
     ]
    }
   ],
   "source": [
    "data.info()"
   ]
  },
  {
   "cell_type": "code",
   "execution_count": null,
   "metadata": {},
   "outputs": [],
   "source": [
    "data['Visitor Volume'] = data['Visitor Volume'].v"
   ]
  }
 ],
 "metadata": {
  "kernelspec": {
   "display_name": "Python 3",
   "language": "python",
   "name": "python3"
  },
  "language_info": {
   "codemirror_mode": {
    "name": "ipython",
    "version": 3
   },
   "file_extension": ".py",
   "mimetype": "text/x-python",
   "name": "python",
   "nbconvert_exporter": "python",
   "pygments_lexer": "ipython3",
   "version": "3.7.3"
  },
  "toc": {
   "base_numbering": 1,
   "nav_menu": {},
   "number_sections": true,
   "sideBar": true,
   "skip_h1_title": false,
   "title_cell": "Table of Contents",
   "title_sidebar": "Contents",
   "toc_cell": false,
   "toc_position": {},
   "toc_section_display": true,
   "toc_window_display": false
  },
  "varInspector": {
   "cols": {
    "lenName": 16,
    "lenType": 16,
    "lenVar": 40
   },
   "kernels_config": {
    "python": {
     "delete_cmd_postfix": "",
     "delete_cmd_prefix": "del ",
     "library": "var_list.py",
     "varRefreshCmd": "print(var_dic_list())"
    },
    "r": {
     "delete_cmd_postfix": ") ",
     "delete_cmd_prefix": "rm(",
     "library": "var_list.r",
     "varRefreshCmd": "cat(var_dic_list()) "
    }
   },
   "types_to_exclude": [
    "module",
    "function",
    "builtin_function_or_method",
    "instance",
    "_Feature"
   ],
   "window_display": false
  }
 },
 "nbformat": 4,
 "nbformat_minor": 2
}
